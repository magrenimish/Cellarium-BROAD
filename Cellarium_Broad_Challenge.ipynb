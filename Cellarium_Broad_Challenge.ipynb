{
  "cells": [
    {
      "cell_type": "markdown",
      "metadata": {
        "id": "view-in-github",
        "colab_type": "text"
      },
      "source": [
        "<a href=\"https://colab.research.google.com/github/magrenimish/Cellarium-BROAD/blob/main/Cellarium_Broad_Challenge.ipynb\" target=\"_parent\"><img src=\"https://colab.research.google.com/assets/colab-badge.svg\" alt=\"Open In Colab\"/></a>"
      ]
    },
    {
      "cell_type": "code",
      "source": [
        "# FUNCTION TO CALCULATE THE HIERARCHICAL DISTANCE BETWEEN QUERY CELL AND NEIGHBORING CELL\n",
        "import networkx as nx\n",
        "\n",
        "# Create an unweighted directed graph\n",
        "cell_type_graph = nx.DiGraph()\n",
        "\n",
        "# Add nodes and edges according to the hierarchy described\n",
        "cell_type_graph.add_edges_from([\n",
        "    ('Cell1', 'Cell1.1'),\n",
        "    ('Cell1', 'Cell1.2'),\n",
        "    ('Cell1.2', 'Cell1.2.1')\n",
        "])\n",
        "\n",
        "# Function to calculate the hierarchical distance considering only direct vertical relationships\n",
        "def vertical_hierarchy_distance(cell_type1, cell_type2, graph):\n",
        "    try:\n",
        "        # Check path from cell_type1 to cell_type2\n",
        "        path = nx.shortest_path(graph, source=cell_type1, target=cell_type2)\n",
        "        return len(path) - 1  # The length of the path minus one (number of edges)\n",
        "    except nx.NetworkXNoPath:\n",
        "        pass  # No path found from cell_type1 to cell_type2\n",
        "\n",
        "    try:\n",
        "        # Check path from cell_type2 to cell_type1\n",
        "        path = nx.shortest_path(graph, source=cell_type2, target=cell_type1)\n",
        "        return len(path) - 1  # The length of the path minus one (number of edges)\n",
        "    except nx.NetworkXNoPath:\n",
        "        pass  # No path found from cell_type2 to cell_type1\n",
        "\n",
        "    return float('inf')  # No path found in either direction\n",
        "\n",
        "# Calculate the distance between 'Cell1.2.3' and 'Cell1'\n",
        "distance_1 = vertical_hierarchy_distance('Cell1.3', 'Cell1.2.3', cell_type_graph)\n",
        "\n",
        "# Calculate the distance between 'Cell1.2.3' and 'Cell1.1'\n",
        "distance_2 = vertical_hierarchy_distance('Cell1.2.3', 'Cell1.1', cell_type_graph)\n",
        "\n",
        "print(f\"Vertical Hierarchical Distance between 'Cell1' and 'Cell1.2.3': {distance_1}\")\n",
        "print(f\"Vertical Hierarchical Distance between 'Cell1.2.3' and 'Cell1.1': {distance_2}\")\n"
      ],
      "metadata": {
        "colab": {
          "base_uri": "https://localhost:8080/"
        },
        "id": "h0BgZ-AiblZd",
        "outputId": "b18ae922-3d5c-4f97-a6ae-2fa8b6e5f3e4"
      },
      "id": "h0BgZ-AiblZd",
      "execution_count": 42,
      "outputs": [
        {
          "output_type": "stream",
          "name": "stdout",
          "text": [
            "Vertical Hierarchical Distance between 'Cell1' and 'Cell1.2.3': 1\n",
            "Vertical Hierarchical Distance between 'Cell1.2.3' and 'Cell1.1': inf\n"
          ]
        }
      ]
    },
    {
      "cell_type": "code",
      "source": [
        "# Create an unweighted directed graph\n",
        "cell_type_graph = nx.DiGraph()\n",
        "\n",
        "# Add nodes and edges according to the hierarchy described\n",
        "cell_type_graph.add_edges_from([\n",
        "    ('Cell1', 'Cell1.1'),\n",
        "    ('Cell1', 'Cell1.2'),\n",
        "    ('Cell1', 'Cell1.3'),\n",
        "    ('Cell1.2', 'Cell1.2.1'),\n",
        "    ('Cell1.2', 'Cell1.2.2'),\n",
        "    ('Cell1.2', 'Cell1.2.3')\n",
        "])\n",
        "path=nx.shortest_path(cell_type_graph, source='Cell1.2.3', target='Cell1.2')\n",
        "print(path)"
      ],
      "metadata": {
        "colab": {
          "base_uri": "https://localhost:8080/",
          "height": 347
        },
        "id": "9RtPz711V7BC",
        "outputId": "08aaae53-f959-4293-aff7-230d9ec33b20"
      },
      "id": "9RtPz711V7BC",
      "execution_count": 22,
      "outputs": [
        {
          "output_type": "error",
          "ename": "NetworkXNoPath",
          "evalue": "No path between Cell1.2.3 and Cell1.2.",
          "traceback": [
            "\u001b[0;31m---------------------------------------------------------------------------\u001b[0m",
            "\u001b[0;31mNetworkXNoPath\u001b[0m                            Traceback (most recent call last)",
            "\u001b[0;32m<ipython-input-22-ec2e8243d505>\u001b[0m in \u001b[0;36m<cell line: 13>\u001b[0;34m()\u001b[0m\n\u001b[1;32m     11\u001b[0m     \u001b[0;34m(\u001b[0m\u001b[0;34m'Cell1.2'\u001b[0m\u001b[0;34m,\u001b[0m \u001b[0;34m'Cell1.2.3'\u001b[0m\u001b[0;34m)\u001b[0m\u001b[0;34m\u001b[0m\u001b[0;34m\u001b[0m\u001b[0m\n\u001b[1;32m     12\u001b[0m ])\n\u001b[0;32m---> 13\u001b[0;31m \u001b[0mpath\u001b[0m\u001b[0;34m=\u001b[0m\u001b[0mnx\u001b[0m\u001b[0;34m.\u001b[0m\u001b[0mshortest_path\u001b[0m\u001b[0;34m(\u001b[0m\u001b[0mcell_type_graph\u001b[0m\u001b[0;34m,\u001b[0m \u001b[0msource\u001b[0m\u001b[0;34m=\u001b[0m\u001b[0;34m'Cell1.2.3'\u001b[0m\u001b[0;34m,\u001b[0m \u001b[0mtarget\u001b[0m\u001b[0;34m=\u001b[0m\u001b[0;34m'Cell1.2'\u001b[0m\u001b[0;34m)\u001b[0m\u001b[0;34m\u001b[0m\u001b[0;34m\u001b[0m\u001b[0m\n\u001b[0m\u001b[1;32m     14\u001b[0m \u001b[0mprint\u001b[0m\u001b[0;34m(\u001b[0m\u001b[0mpath\u001b[0m\u001b[0;34m)\u001b[0m\u001b[0;34m\u001b[0m\u001b[0;34m\u001b[0m\u001b[0m\n",
            "\u001b[0;32m/usr/local/lib/python3.10/dist-packages/networkx/utils/decorators.py\u001b[0m in \u001b[0;36margmap_shortest_path_9\u001b[0;34m(G, source, target, weight, method, backend, **backend_kwargs)\u001b[0m\n\u001b[1;32m      1\u001b[0m \u001b[0;32mimport\u001b[0m \u001b[0mbz2\u001b[0m\u001b[0;34m\u001b[0m\u001b[0;34m\u001b[0m\u001b[0m\n\u001b[1;32m      2\u001b[0m \u001b[0;32mimport\u001b[0m \u001b[0mcollections\u001b[0m\u001b[0;34m\u001b[0m\u001b[0;34m\u001b[0m\u001b[0m\n\u001b[0;32m----> 3\u001b[0;31m \u001b[0;32mimport\u001b[0m \u001b[0mgzip\u001b[0m\u001b[0;34m\u001b[0m\u001b[0;34m\u001b[0m\u001b[0m\n\u001b[0m\u001b[1;32m      4\u001b[0m \u001b[0;32mimport\u001b[0m \u001b[0minspect\u001b[0m\u001b[0;34m\u001b[0m\u001b[0;34m\u001b[0m\u001b[0m\n\u001b[1;32m      5\u001b[0m \u001b[0;32mimport\u001b[0m \u001b[0mitertools\u001b[0m\u001b[0;34m\u001b[0m\u001b[0;34m\u001b[0m\u001b[0m\n",
            "\u001b[0;32m/usr/local/lib/python3.10/dist-packages/networkx/utils/backends.py\u001b[0m in \u001b[0;36m__call__\u001b[0;34m(self, backend, *args, **kwargs)\u001b[0m\n\u001b[1;32m    631\u001b[0m         \u001b[0;32mif\u001b[0m \u001b[0;32mnot\u001b[0m \u001b[0mbackends\u001b[0m\u001b[0;34m:\u001b[0m\u001b[0;34m\u001b[0m\u001b[0;34m\u001b[0m\u001b[0m\n\u001b[1;32m    632\u001b[0m             \u001b[0;31m# Fast path if no backends are installed\u001b[0m\u001b[0;34m\u001b[0m\u001b[0;34m\u001b[0m\u001b[0m\n\u001b[0;32m--> 633\u001b[0;31m             \u001b[0;32mreturn\u001b[0m \u001b[0mself\u001b[0m\u001b[0;34m.\u001b[0m\u001b[0morig_func\u001b[0m\u001b[0;34m(\u001b[0m\u001b[0;34m*\u001b[0m\u001b[0margs\u001b[0m\u001b[0;34m,\u001b[0m \u001b[0;34m**\u001b[0m\u001b[0mkwargs\u001b[0m\u001b[0;34m)\u001b[0m\u001b[0;34m\u001b[0m\u001b[0;34m\u001b[0m\u001b[0m\n\u001b[0m\u001b[1;32m    634\u001b[0m \u001b[0;34m\u001b[0m\u001b[0m\n\u001b[1;32m    635\u001b[0m         \u001b[0;31m# Use `backend_name` in this function instead of `backend`\u001b[0m\u001b[0;34m\u001b[0m\u001b[0;34m\u001b[0m\u001b[0m\n",
            "\u001b[0;32m/usr/local/lib/python3.10/dist-packages/networkx/algorithms/shortest_paths/generic.py\u001b[0m in \u001b[0;36mshortest_path\u001b[0;34m(G, source, target, weight, method)\u001b[0m\n\u001b[1;32m    180\u001b[0m             \u001b[0;31m# Find shortest source-target path.\u001b[0m\u001b[0;34m\u001b[0m\u001b[0;34m\u001b[0m\u001b[0m\n\u001b[1;32m    181\u001b[0m             \u001b[0;32mif\u001b[0m \u001b[0mmethod\u001b[0m \u001b[0;34m==\u001b[0m \u001b[0;34m\"unweighted\"\u001b[0m\u001b[0;34m:\u001b[0m\u001b[0;34m\u001b[0m\u001b[0;34m\u001b[0m\u001b[0m\n\u001b[0;32m--> 182\u001b[0;31m                 \u001b[0mpaths\u001b[0m \u001b[0;34m=\u001b[0m \u001b[0mnx\u001b[0m\u001b[0;34m.\u001b[0m\u001b[0mbidirectional_shortest_path\u001b[0m\u001b[0;34m(\u001b[0m\u001b[0mG\u001b[0m\u001b[0;34m,\u001b[0m \u001b[0msource\u001b[0m\u001b[0;34m,\u001b[0m \u001b[0mtarget\u001b[0m\u001b[0;34m)\u001b[0m\u001b[0;34m\u001b[0m\u001b[0;34m\u001b[0m\u001b[0m\n\u001b[0m\u001b[1;32m    183\u001b[0m             \u001b[0;32melif\u001b[0m \u001b[0mmethod\u001b[0m \u001b[0;34m==\u001b[0m \u001b[0;34m\"dijkstra\"\u001b[0m\u001b[0;34m:\u001b[0m\u001b[0;34m\u001b[0m\u001b[0;34m\u001b[0m\u001b[0m\n\u001b[1;32m    184\u001b[0m                 \u001b[0m_\u001b[0m\u001b[0;34m,\u001b[0m \u001b[0mpaths\u001b[0m \u001b[0;34m=\u001b[0m \u001b[0mnx\u001b[0m\u001b[0;34m.\u001b[0m\u001b[0mbidirectional_dijkstra\u001b[0m\u001b[0;34m(\u001b[0m\u001b[0mG\u001b[0m\u001b[0;34m,\u001b[0m \u001b[0msource\u001b[0m\u001b[0;34m,\u001b[0m \u001b[0mtarget\u001b[0m\u001b[0;34m,\u001b[0m \u001b[0mweight\u001b[0m\u001b[0;34m)\u001b[0m\u001b[0;34m\u001b[0m\u001b[0;34m\u001b[0m\u001b[0m\n",
            "\u001b[0;32m/usr/local/lib/python3.10/dist-packages/networkx/utils/decorators.py\u001b[0m in \u001b[0;36margmap_bidirectional_shortest_path_5\u001b[0;34m(G, source, target, backend, **backend_kwargs)\u001b[0m\n\u001b[1;32m      1\u001b[0m \u001b[0;32mimport\u001b[0m \u001b[0mbz2\u001b[0m\u001b[0;34m\u001b[0m\u001b[0;34m\u001b[0m\u001b[0m\n\u001b[1;32m      2\u001b[0m \u001b[0;32mimport\u001b[0m \u001b[0mcollections\u001b[0m\u001b[0;34m\u001b[0m\u001b[0;34m\u001b[0m\u001b[0m\n\u001b[0;32m----> 3\u001b[0;31m \u001b[0;32mimport\u001b[0m \u001b[0mgzip\u001b[0m\u001b[0;34m\u001b[0m\u001b[0;34m\u001b[0m\u001b[0m\n\u001b[0m\u001b[1;32m      4\u001b[0m \u001b[0;32mimport\u001b[0m \u001b[0minspect\u001b[0m\u001b[0;34m\u001b[0m\u001b[0;34m\u001b[0m\u001b[0m\n\u001b[1;32m      5\u001b[0m \u001b[0;32mimport\u001b[0m \u001b[0mitertools\u001b[0m\u001b[0;34m\u001b[0m\u001b[0;34m\u001b[0m\u001b[0m\n",
            "\u001b[0;32m/usr/local/lib/python3.10/dist-packages/networkx/utils/backends.py\u001b[0m in \u001b[0;36m__call__\u001b[0;34m(self, backend, *args, **kwargs)\u001b[0m\n\u001b[1;32m    631\u001b[0m         \u001b[0;32mif\u001b[0m \u001b[0;32mnot\u001b[0m \u001b[0mbackends\u001b[0m\u001b[0;34m:\u001b[0m\u001b[0;34m\u001b[0m\u001b[0;34m\u001b[0m\u001b[0m\n\u001b[1;32m    632\u001b[0m             \u001b[0;31m# Fast path if no backends are installed\u001b[0m\u001b[0;34m\u001b[0m\u001b[0;34m\u001b[0m\u001b[0m\n\u001b[0;32m--> 633\u001b[0;31m             \u001b[0;32mreturn\u001b[0m \u001b[0mself\u001b[0m\u001b[0;34m.\u001b[0m\u001b[0morig_func\u001b[0m\u001b[0;34m(\u001b[0m\u001b[0;34m*\u001b[0m\u001b[0margs\u001b[0m\u001b[0;34m,\u001b[0m \u001b[0;34m**\u001b[0m\u001b[0mkwargs\u001b[0m\u001b[0;34m)\u001b[0m\u001b[0;34m\u001b[0m\u001b[0;34m\u001b[0m\u001b[0m\n\u001b[0m\u001b[1;32m    634\u001b[0m \u001b[0;34m\u001b[0m\u001b[0m\n\u001b[1;32m    635\u001b[0m         \u001b[0;31m# Use `backend_name` in this function instead of `backend`\u001b[0m\u001b[0;34m\u001b[0m\u001b[0;34m\u001b[0m\u001b[0m\n",
            "\u001b[0;32m/usr/local/lib/python3.10/dist-packages/networkx/algorithms/shortest_paths/unweighted.py\u001b[0m in \u001b[0;36mbidirectional_shortest_path\u001b[0;34m(G, source, target)\u001b[0m\n\u001b[1;32m    245\u001b[0m \u001b[0;34m\u001b[0m\u001b[0m\n\u001b[1;32m    246\u001b[0m     \u001b[0;31m# call helper to do the real work\u001b[0m\u001b[0;34m\u001b[0m\u001b[0;34m\u001b[0m\u001b[0m\n\u001b[0;32m--> 247\u001b[0;31m     \u001b[0mresults\u001b[0m \u001b[0;34m=\u001b[0m \u001b[0m_bidirectional_pred_succ\u001b[0m\u001b[0;34m(\u001b[0m\u001b[0mG\u001b[0m\u001b[0;34m,\u001b[0m \u001b[0msource\u001b[0m\u001b[0;34m,\u001b[0m \u001b[0mtarget\u001b[0m\u001b[0;34m)\u001b[0m\u001b[0;34m\u001b[0m\u001b[0;34m\u001b[0m\u001b[0m\n\u001b[0m\u001b[1;32m    248\u001b[0m     \u001b[0mpred\u001b[0m\u001b[0;34m,\u001b[0m \u001b[0msucc\u001b[0m\u001b[0;34m,\u001b[0m \u001b[0mw\u001b[0m \u001b[0;34m=\u001b[0m \u001b[0mresults\u001b[0m\u001b[0;34m\u001b[0m\u001b[0;34m\u001b[0m\u001b[0m\n\u001b[1;32m    249\u001b[0m \u001b[0;34m\u001b[0m\u001b[0m\n",
            "\u001b[0;32m/usr/local/lib/python3.10/dist-packages/networkx/algorithms/shortest_paths/unweighted.py\u001b[0m in \u001b[0;36m_bidirectional_pred_succ\u001b[0;34m(G, source, target)\u001b[0m\n\u001b[1;32m    313\u001b[0m                         \u001b[0;32mreturn\u001b[0m \u001b[0mpred\u001b[0m\u001b[0;34m,\u001b[0m \u001b[0msucc\u001b[0m\u001b[0;34m,\u001b[0m \u001b[0mw\u001b[0m\u001b[0;34m\u001b[0m\u001b[0;34m\u001b[0m\u001b[0m\n\u001b[1;32m    314\u001b[0m \u001b[0;34m\u001b[0m\u001b[0m\n\u001b[0;32m--> 315\u001b[0;31m     \u001b[0;32mraise\u001b[0m \u001b[0mnx\u001b[0m\u001b[0;34m.\u001b[0m\u001b[0mNetworkXNoPath\u001b[0m\u001b[0;34m(\u001b[0m\u001b[0;34mf\"No path between {source} and {target}.\"\u001b[0m\u001b[0;34m)\u001b[0m\u001b[0;34m\u001b[0m\u001b[0;34m\u001b[0m\u001b[0m\n\u001b[0m\u001b[1;32m    316\u001b[0m \u001b[0;34m\u001b[0m\u001b[0m\n\u001b[1;32m    317\u001b[0m \u001b[0;34m\u001b[0m\u001b[0m\n",
            "\u001b[0;31mNetworkXNoPath\u001b[0m: No path between Cell1.2.3 and Cell1.2."
          ]
        }
      ]
    },
    {
      "cell_type": "markdown",
      "id": "82f01983-3ae5-477c-a6d7-9120237be499",
      "metadata": {
        "id": "82f01983-3ae5-477c-a6d7-9120237be499"
      },
      "source": [
        "# Broad NEU Challenge Helper Notebook"
      ]
    },
    {
      "cell_type": "markdown",
      "id": "e234d700-3300-47ce-91cd-74e76857622a",
      "metadata": {
        "id": "e234d700-3300-47ce-91cd-74e76857622a"
      },
      "source": [
        "## Installing required libraries"
      ]
    },
    {
      "cell_type": "code",
      "execution_count": 43,
      "id": "3c63584e-b1b7-4c3d-834e-f9e6e1e1cc45",
      "metadata": {
        "tags": [],
        "colab": {
          "base_uri": "https://localhost:8080/"
        },
        "id": "3c63584e-b1b7-4c3d-834e-f9e6e1e1cc45",
        "outputId": "d0cf2faa-70af-4012-8d76-ada46165f097"
      },
      "outputs": [
        {
          "output_type": "stream",
          "name": "stdout",
          "text": [
            "Collecting anndata\n",
            "  Downloading anndata-0.10.7-py3-none-any.whl (122 kB)\n",
            "\u001b[2K     \u001b[90m━━━━━━━━━━━━━━━━━━━━━━━━━━━━━━━━━━━━━━━━\u001b[0m \u001b[32m122.4/122.4 kB\u001b[0m \u001b[31m2.7 MB/s\u001b[0m eta \u001b[36m0:00:00\u001b[0m\n",
            "\u001b[?25hCollecting array-api-compat!=1.5,>1.4 (from anndata)\n",
            "  Downloading array_api_compat-1.7.1-py3-none-any.whl (37 kB)\n",
            "Requirement already satisfied: exceptiongroup in /usr/local/lib/python3.10/dist-packages (from anndata) (1.2.1)\n",
            "Requirement already satisfied: h5py>=3.1 in /usr/local/lib/python3.10/dist-packages (from anndata) (3.9.0)\n",
            "Requirement already satisfied: natsort in /usr/local/lib/python3.10/dist-packages (from anndata) (8.4.0)\n",
            "Requirement already satisfied: numpy>=1.23 in /usr/local/lib/python3.10/dist-packages (from anndata) (1.25.2)\n",
            "Requirement already satisfied: packaging>=20.0 in /usr/local/lib/python3.10/dist-packages (from anndata) (24.0)\n",
            "Requirement already satisfied: pandas!=2.1.0rc0,!=2.1.2,>=1.4 in /usr/local/lib/python3.10/dist-packages (from anndata) (2.0.3)\n",
            "Requirement already satisfied: scipy>1.8 in /usr/local/lib/python3.10/dist-packages (from anndata) (1.11.4)\n",
            "Requirement already satisfied: python-dateutil>=2.8.2 in /usr/local/lib/python3.10/dist-packages (from pandas!=2.1.0rc0,!=2.1.2,>=1.4->anndata) (2.8.2)\n",
            "Requirement already satisfied: pytz>=2020.1 in /usr/local/lib/python3.10/dist-packages (from pandas!=2.1.0rc0,!=2.1.2,>=1.4->anndata) (2023.4)\n",
            "Requirement already satisfied: tzdata>=2022.1 in /usr/local/lib/python3.10/dist-packages (from pandas!=2.1.0rc0,!=2.1.2,>=1.4->anndata) (2024.1)\n",
            "Requirement already satisfied: six>=1.5 in /usr/local/lib/python3.10/dist-packages (from python-dateutil>=2.8.2->pandas!=2.1.0rc0,!=2.1.2,>=1.4->anndata) (1.16.0)\n",
            "Installing collected packages: array-api-compat, anndata\n",
            "Successfully installed anndata-0.10.7 array-api-compat-1.7.1\n"
          ]
        }
      ],
      "source": [
        "!pip install anndata"
      ]
    },
    {
      "cell_type": "markdown",
      "id": "8b4099a6-aac7-4105-b094-92fa2f699009",
      "metadata": {
        "id": "8b4099a6-aac7-4105-b094-92fa2f699009"
      },
      "source": [
        "## Data overview"
      ]
    },
    {
      "cell_type": "markdown",
      "id": "fd4a49ab-4804-41be-8380-d8866a6dd697",
      "metadata": {
        "id": "fd4a49ab-4804-41be-8380-d8866a6dd697"
      },
      "source": [
        "Usually we use anndata to operate with our data which is stored in `h5ad` format. You can find more about anndata and the format it stores the data [here](https://anndata.readthedocs.io/en/latest/)"
      ]
    },
    {
      "cell_type": "code",
      "execution_count": null,
      "id": "dabcbc0c-6309-4eee-bee2-9732d4279328",
      "metadata": {
        "tags": [],
        "colab": {
          "base_uri": "https://localhost:8080/"
        },
        "id": "dabcbc0c-6309-4eee-bee2-9732d4279328",
        "outputId": "353ff4fa-ea79-4125-ed40-50b2ce836596"
      },
      "outputs": [
        {
          "output_type": "stream",
          "name": "stdout",
          "text": [
            "--2024-06-07 17:05:25--  https://storage.googleapis.com/dsp-cellarium-cas-public/neu-broad-challenge/pbmc_10k_neu_challenge_example.h5ad\n",
            "Resolving storage.googleapis.com (storage.googleapis.com)... 74.125.201.207, 74.125.202.207, 74.125.69.207, ...\n",
            "Connecting to storage.googleapis.com (storage.googleapis.com)|74.125.201.207|:443... connected.\n",
            "HTTP request sent, awaiting response... 200 OK\n",
            "Length: 189524066 (181M) [application/octet-stream]\n",
            "Saving to: ‘pbmc_10k_neu_challenge_example.h5ad’\n",
            "\n",
            "pbmc_10k_neu_challe 100%[===================>] 180.74M   103MB/s    in 1.8s    \n",
            "\n",
            "2024-06-07 17:05:27 (103 MB/s) - ‘pbmc_10k_neu_challenge_example.h5ad’ saved [189524066/189524066]\n",
            "\n"
          ]
        }
      ],
      "source": [
        "!wget https://storage.googleapis.com/dsp-cellarium-cas-public/neu-broad-challenge/pbmc_10k_neu_challenge_example.h5ad"
      ]
    },
    {
      "cell_type": "code",
      "execution_count": null,
      "id": "22fecc62",
      "metadata": {
        "id": "22fecc62"
      },
      "outputs": [],
      "source": [
        "import anndata"
      ]
    },
    {
      "cell_type": "code",
      "execution_count": null,
      "id": "56b75e3a",
      "metadata": {
        "id": "56b75e3a"
      },
      "outputs": [],
      "source": [
        "adata = anndata.read_h5ad(\"pbmc_10k_neu_challenge_example.h5ad\")"
      ]
    },
    {
      "cell_type": "markdown",
      "id": "5ce26ba4-fb36-433d-851d-f14c2d95910e",
      "metadata": {
        "id": "5ce26ba4-fb36-433d-851d-f14c2d95910e"
      },
      "source": [
        "General information about the data, here you can see all the metadata variables and data dimensionality. You don't need those metadata variables, this is just an example of the dataset that usually goes through our pipeline tool"
      ]
    },
    {
      "cell_type": "code",
      "execution_count": null,
      "id": "3dfa4fb5-8df4-4f0a-9401-f4b9615bc85d",
      "metadata": {
        "tags": [],
        "colab": {
          "base_uri": "https://localhost:8080/"
        },
        "id": "3dfa4fb5-8df4-4f0a-9401-f4b9615bc85d",
        "outputId": "4734ddf2-03e1-46c8-f396-44c5fd0d118c"
      },
      "outputs": [
        {
          "output_type": "execute_result",
          "data": {
            "text/plain": [
              "AnnData object with n_obs × n_vars = 10246 × 36601\n",
              "    obs: 'total_mrna_umis', 'n_genes', 'n_genes_by_counts', 'total_counts', 'total_counts_mt', 'pct_counts_mt'\n",
              "    var: 'feature_name'\n",
              "    uns: 'hvg', 'log1p', 'neighbors', 'pca', 'umap'\n",
              "    obsm: 'X_pca', 'X_umap'\n",
              "    obsp: 'connectivities', 'distances'"
            ]
          },
          "metadata": {},
          "execution_count": 6
        }
      ],
      "source": [
        "adata"
      ]
    },
    {
      "cell_type": "code",
      "source": [
        "adata.var"
      ],
      "metadata": {
        "colab": {
          "base_uri": "https://localhost:8080/",
          "height": 424
        },
        "id": "N0EipZHbwm0m",
        "outputId": "f94c4d00-df5d-49ff-b585-ef7e069038d2"
      },
      "id": "N0EipZHbwm0m",
      "execution_count": null,
      "outputs": [
        {
          "output_type": "execute_result",
          "data": {
            "text/plain": [
              "                feature_name\n",
              "ENSG00000187642        PERM1\n",
              "ENSG00000078808         SDF4\n",
              "ENSG00000272106   AL691432.2\n",
              "ENSG00000162585       FAAP20\n",
              "ENSG00000272088   AL512413.1\n",
              "...                      ...\n",
              "ENSG00000224281          N/A\n",
              "ENSG00000122121      XPNPEP2\n",
              "ENSG00000228836       CT45A5\n",
              "ENSG00000231937   AC116666.1\n",
              "ENSG00000268916        CSAG3\n",
              "\n",
              "[36601 rows x 1 columns]"
            ],
            "text/html": [
              "\n",
              "  <div id=\"df-07de2e4a-4d28-4520-b67e-0101b2e887b2\" class=\"colab-df-container\">\n",
              "    <div>\n",
              "<style scoped>\n",
              "    .dataframe tbody tr th:only-of-type {\n",
              "        vertical-align: middle;\n",
              "    }\n",
              "\n",
              "    .dataframe tbody tr th {\n",
              "        vertical-align: top;\n",
              "    }\n",
              "\n",
              "    .dataframe thead th {\n",
              "        text-align: right;\n",
              "    }\n",
              "</style>\n",
              "<table border=\"1\" class=\"dataframe\">\n",
              "  <thead>\n",
              "    <tr style=\"text-align: right;\">\n",
              "      <th></th>\n",
              "      <th>feature_name</th>\n",
              "    </tr>\n",
              "  </thead>\n",
              "  <tbody>\n",
              "    <tr>\n",
              "      <th>ENSG00000187642</th>\n",
              "      <td>PERM1</td>\n",
              "    </tr>\n",
              "    <tr>\n",
              "      <th>ENSG00000078808</th>\n",
              "      <td>SDF4</td>\n",
              "    </tr>\n",
              "    <tr>\n",
              "      <th>ENSG00000272106</th>\n",
              "      <td>AL691432.2</td>\n",
              "    </tr>\n",
              "    <tr>\n",
              "      <th>ENSG00000162585</th>\n",
              "      <td>FAAP20</td>\n",
              "    </tr>\n",
              "    <tr>\n",
              "      <th>ENSG00000272088</th>\n",
              "      <td>AL512413.1</td>\n",
              "    </tr>\n",
              "    <tr>\n",
              "      <th>...</th>\n",
              "      <td>...</td>\n",
              "    </tr>\n",
              "    <tr>\n",
              "      <th>ENSG00000224281</th>\n",
              "      <td>N/A</td>\n",
              "    </tr>\n",
              "    <tr>\n",
              "      <th>ENSG00000122121</th>\n",
              "      <td>XPNPEP2</td>\n",
              "    </tr>\n",
              "    <tr>\n",
              "      <th>ENSG00000228836</th>\n",
              "      <td>CT45A5</td>\n",
              "    </tr>\n",
              "    <tr>\n",
              "      <th>ENSG00000231937</th>\n",
              "      <td>AC116666.1</td>\n",
              "    </tr>\n",
              "    <tr>\n",
              "      <th>ENSG00000268916</th>\n",
              "      <td>CSAG3</td>\n",
              "    </tr>\n",
              "  </tbody>\n",
              "</table>\n",
              "<p>36601 rows × 1 columns</p>\n",
              "</div>\n",
              "    <div class=\"colab-df-buttons\">\n",
              "\n",
              "  <div class=\"colab-df-container\">\n",
              "    <button class=\"colab-df-convert\" onclick=\"convertToInteractive('df-07de2e4a-4d28-4520-b67e-0101b2e887b2')\"\n",
              "            title=\"Convert this dataframe to an interactive table.\"\n",
              "            style=\"display:none;\">\n",
              "\n",
              "  <svg xmlns=\"http://www.w3.org/2000/svg\" height=\"24px\" viewBox=\"0 -960 960 960\">\n",
              "    <path d=\"M120-120v-720h720v720H120Zm60-500h600v-160H180v160Zm220 220h160v-160H400v160Zm0 220h160v-160H400v160ZM180-400h160v-160H180v160Zm440 0h160v-160H620v160ZM180-180h160v-160H180v160Zm440 0h160v-160H620v160Z\"/>\n",
              "  </svg>\n",
              "    </button>\n",
              "\n",
              "  <style>\n",
              "    .colab-df-container {\n",
              "      display:flex;\n",
              "      gap: 12px;\n",
              "    }\n",
              "\n",
              "    .colab-df-convert {\n",
              "      background-color: #E8F0FE;\n",
              "      border: none;\n",
              "      border-radius: 50%;\n",
              "      cursor: pointer;\n",
              "      display: none;\n",
              "      fill: #1967D2;\n",
              "      height: 32px;\n",
              "      padding: 0 0 0 0;\n",
              "      width: 32px;\n",
              "    }\n",
              "\n",
              "    .colab-df-convert:hover {\n",
              "      background-color: #E2EBFA;\n",
              "      box-shadow: 0px 1px 2px rgba(60, 64, 67, 0.3), 0px 1px 3px 1px rgba(60, 64, 67, 0.15);\n",
              "      fill: #174EA6;\n",
              "    }\n",
              "\n",
              "    .colab-df-buttons div {\n",
              "      margin-bottom: 4px;\n",
              "    }\n",
              "\n",
              "    [theme=dark] .colab-df-convert {\n",
              "      background-color: #3B4455;\n",
              "      fill: #D2E3FC;\n",
              "    }\n",
              "\n",
              "    [theme=dark] .colab-df-convert:hover {\n",
              "      background-color: #434B5C;\n",
              "      box-shadow: 0px 1px 3px 1px rgba(0, 0, 0, 0.15);\n",
              "      filter: drop-shadow(0px 1px 2px rgba(0, 0, 0, 0.3));\n",
              "      fill: #FFFFFF;\n",
              "    }\n",
              "  </style>\n",
              "\n",
              "    <script>\n",
              "      const buttonEl =\n",
              "        document.querySelector('#df-07de2e4a-4d28-4520-b67e-0101b2e887b2 button.colab-df-convert');\n",
              "      buttonEl.style.display =\n",
              "        google.colab.kernel.accessAllowed ? 'block' : 'none';\n",
              "\n",
              "      async function convertToInteractive(key) {\n",
              "        const element = document.querySelector('#df-07de2e4a-4d28-4520-b67e-0101b2e887b2');\n",
              "        const dataTable =\n",
              "          await google.colab.kernel.invokeFunction('convertToInteractive',\n",
              "                                                    [key], {});\n",
              "        if (!dataTable) return;\n",
              "\n",
              "        const docLinkHtml = 'Like what you see? Visit the ' +\n",
              "          '<a target=\"_blank\" href=https://colab.research.google.com/notebooks/data_table.ipynb>data table notebook</a>'\n",
              "          + ' to learn more about interactive tables.';\n",
              "        element.innerHTML = '';\n",
              "        dataTable['output_type'] = 'display_data';\n",
              "        await google.colab.output.renderOutput(dataTable, element);\n",
              "        const docLink = document.createElement('div');\n",
              "        docLink.innerHTML = docLinkHtml;\n",
              "        element.appendChild(docLink);\n",
              "      }\n",
              "    </script>\n",
              "  </div>\n",
              "\n",
              "\n",
              "<div id=\"df-0d0f4c6a-9830-45d5-b05f-78b68c5f1a98\">\n",
              "  <button class=\"colab-df-quickchart\" onclick=\"quickchart('df-0d0f4c6a-9830-45d5-b05f-78b68c5f1a98')\"\n",
              "            title=\"Suggest charts\"\n",
              "            style=\"display:none;\">\n",
              "\n",
              "<svg xmlns=\"http://www.w3.org/2000/svg\" height=\"24px\"viewBox=\"0 0 24 24\"\n",
              "     width=\"24px\">\n",
              "    <g>\n",
              "        <path d=\"M19 3H5c-1.1 0-2 .9-2 2v14c0 1.1.9 2 2 2h14c1.1 0 2-.9 2-2V5c0-1.1-.9-2-2-2zM9 17H7v-7h2v7zm4 0h-2V7h2v10zm4 0h-2v-4h2v4z\"/>\n",
              "    </g>\n",
              "</svg>\n",
              "  </button>\n",
              "\n",
              "<style>\n",
              "  .colab-df-quickchart {\n",
              "      --bg-color: #E8F0FE;\n",
              "      --fill-color: #1967D2;\n",
              "      --hover-bg-color: #E2EBFA;\n",
              "      --hover-fill-color: #174EA6;\n",
              "      --disabled-fill-color: #AAA;\n",
              "      --disabled-bg-color: #DDD;\n",
              "  }\n",
              "\n",
              "  [theme=dark] .colab-df-quickchart {\n",
              "      --bg-color: #3B4455;\n",
              "      --fill-color: #D2E3FC;\n",
              "      --hover-bg-color: #434B5C;\n",
              "      --hover-fill-color: #FFFFFF;\n",
              "      --disabled-bg-color: #3B4455;\n",
              "      --disabled-fill-color: #666;\n",
              "  }\n",
              "\n",
              "  .colab-df-quickchart {\n",
              "    background-color: var(--bg-color);\n",
              "    border: none;\n",
              "    border-radius: 50%;\n",
              "    cursor: pointer;\n",
              "    display: none;\n",
              "    fill: var(--fill-color);\n",
              "    height: 32px;\n",
              "    padding: 0;\n",
              "    width: 32px;\n",
              "  }\n",
              "\n",
              "  .colab-df-quickchart:hover {\n",
              "    background-color: var(--hover-bg-color);\n",
              "    box-shadow: 0 1px 2px rgba(60, 64, 67, 0.3), 0 1px 3px 1px rgba(60, 64, 67, 0.15);\n",
              "    fill: var(--button-hover-fill-color);\n",
              "  }\n",
              "\n",
              "  .colab-df-quickchart-complete:disabled,\n",
              "  .colab-df-quickchart-complete:disabled:hover {\n",
              "    background-color: var(--disabled-bg-color);\n",
              "    fill: var(--disabled-fill-color);\n",
              "    box-shadow: none;\n",
              "  }\n",
              "\n",
              "  .colab-df-spinner {\n",
              "    border: 2px solid var(--fill-color);\n",
              "    border-color: transparent;\n",
              "    border-bottom-color: var(--fill-color);\n",
              "    animation:\n",
              "      spin 1s steps(1) infinite;\n",
              "  }\n",
              "\n",
              "  @keyframes spin {\n",
              "    0% {\n",
              "      border-color: transparent;\n",
              "      border-bottom-color: var(--fill-color);\n",
              "      border-left-color: var(--fill-color);\n",
              "    }\n",
              "    20% {\n",
              "      border-color: transparent;\n",
              "      border-left-color: var(--fill-color);\n",
              "      border-top-color: var(--fill-color);\n",
              "    }\n",
              "    30% {\n",
              "      border-color: transparent;\n",
              "      border-left-color: var(--fill-color);\n",
              "      border-top-color: var(--fill-color);\n",
              "      border-right-color: var(--fill-color);\n",
              "    }\n",
              "    40% {\n",
              "      border-color: transparent;\n",
              "      border-right-color: var(--fill-color);\n",
              "      border-top-color: var(--fill-color);\n",
              "    }\n",
              "    60% {\n",
              "      border-color: transparent;\n",
              "      border-right-color: var(--fill-color);\n",
              "    }\n",
              "    80% {\n",
              "      border-color: transparent;\n",
              "      border-right-color: var(--fill-color);\n",
              "      border-bottom-color: var(--fill-color);\n",
              "    }\n",
              "    90% {\n",
              "      border-color: transparent;\n",
              "      border-bottom-color: var(--fill-color);\n",
              "    }\n",
              "  }\n",
              "</style>\n",
              "\n",
              "  <script>\n",
              "    async function quickchart(key) {\n",
              "      const quickchartButtonEl =\n",
              "        document.querySelector('#' + key + ' button');\n",
              "      quickchartButtonEl.disabled = true;  // To prevent multiple clicks.\n",
              "      quickchartButtonEl.classList.add('colab-df-spinner');\n",
              "      try {\n",
              "        const charts = await google.colab.kernel.invokeFunction(\n",
              "            'suggestCharts', [key], {});\n",
              "      } catch (error) {\n",
              "        console.error('Error during call to suggestCharts:', error);\n",
              "      }\n",
              "      quickchartButtonEl.classList.remove('colab-df-spinner');\n",
              "      quickchartButtonEl.classList.add('colab-df-quickchart-complete');\n",
              "    }\n",
              "    (() => {\n",
              "      let quickchartButtonEl =\n",
              "        document.querySelector('#df-0d0f4c6a-9830-45d5-b05f-78b68c5f1a98 button');\n",
              "      quickchartButtonEl.style.display =\n",
              "        google.colab.kernel.accessAllowed ? 'block' : 'none';\n",
              "    })();\n",
              "  </script>\n",
              "</div>\n",
              "\n",
              "    </div>\n",
              "  </div>\n"
            ],
            "application/vnd.google.colaboratory.intrinsic+json": {
              "type": "dataframe",
              "summary": "{\n  \"name\": \"adata\",\n  \"rows\": 36601,\n  \"fields\": [\n    {\n      \"column\": \"feature_name\",\n      \"properties\": {\n        \"dtype\": \"category\",\n        \"num_unique_values\": 32733,\n        \"samples\": [\n          \"RNF25\",\n          \"KRTAP3-2\",\n          \"AC023905.1\"\n        ],\n        \"semantic_type\": \"\",\n        \"description\": \"\"\n      }\n    }\n  ]\n}"
            }
          },
          "metadata": {},
          "execution_count": 17
        }
      ]
    },
    {
      "cell_type": "code",
      "source": [
        "print(adata.obs.describe())\n",
        "print(adata.var.describe())\n"
      ],
      "metadata": {
        "colab": {
          "base_uri": "https://localhost:8080/"
        },
        "id": "PP4N7HNMtREC",
        "outputId": "f60da82d-c89c-4cb4-e730-108f68ab27c8"
      },
      "id": "PP4N7HNMtREC",
      "execution_count": null,
      "outputs": [
        {
          "output_type": "stream",
          "name": "stdout",
          "text": [
            "       total_mrna_umis       n_genes  n_genes_by_counts  total_counts  \\\n",
            "count     10246.000000  10246.000000       10246.000000  10246.000000   \n",
            "mean       7724.294922   2177.836326        2174.470720   7718.298828   \n",
            "std        3390.274414    708.668308         707.745527   3388.345215   \n",
            "min        1852.000000   1001.000000        1000.000000   1849.000000   \n",
            "25%        5303.500000   1650.000000        1648.250000   5299.500000   \n",
            "50%        6728.000000   1948.000000        1945.000000   6723.000000   \n",
            "75%        9547.750000   2696.750000        2694.000000   9542.750000   \n",
            "max       38378.000000   4008.000000        3999.000000  38276.000000   \n",
            "\n",
            "       total_counts_mt  pct_counts_mt  \n",
            "count     10246.000000   10246.000000  \n",
            "mean        701.906860       9.316878  \n",
            "std         321.352753       2.449145  \n",
            "min          29.000000       0.832138  \n",
            "25%         475.250000       7.668347  \n",
            "50%         623.000000       9.009474  \n",
            "75%         863.750000      10.613115  \n",
            "max        3062.000000      19.933077  \n",
            "       feature_name\n",
            "count         36601\n",
            "unique        32733\n",
            "top             N/A\n",
            "freq           3869\n"
          ]
        }
      ]
    },
    {
      "cell_type": "code",
      "source": [
        "print(adata.X[:5, :5])  # Prints the first 5 cells and first 5 genes"
      ],
      "metadata": {
        "colab": {
          "base_uri": "https://localhost:8080/"
        },
        "id": "2wFIuTDVtdxe",
        "outputId": "46d7d2ce-6d1d-4709-ab22-db44c263c872"
      },
      "id": "2wFIuTDVtdxe",
      "execution_count": null,
      "outputs": [
        {
          "output_type": "stream",
          "name": "stdout",
          "text": [
            "  (3, 3)\t1.0\n",
            "  (4, 1)\t1.0\n",
            "  (4, 3)\t2.0\n"
          ]
        }
      ]
    },
    {
      "cell_type": "code",
      "source": [
        "print(adata.obs.head())  # Overview of cell metadata\n",
        "#print(adata.var.head())  # Overview of gene metadata"
      ],
      "metadata": {
        "colab": {
          "base_uri": "https://localhost:8080/"
        },
        "id": "3MWEB8vgtja6",
        "outputId": "42723f5c-6400-4694-b0e2-4ead41c2ccce"
      },
      "id": "3MWEB8vgtja6",
      "execution_count": null,
      "outputs": [
        {
          "output_type": "stream",
          "name": "stdout",
          "text": [
            "                    total_mrna_umis  n_genes  n_genes_by_counts  total_counts  \\\n",
            "AAACCCAAGCGCCCAT-1           2204.0     1087               1084        2201.0   \n",
            "AAACCCACAGAGTTGG-1           5884.0     1835               1834        5882.0   \n",
            "AAACCCACAGGTATGG-1           5530.0     2215               2215        5529.0   \n",
            "AAACCCACATAGTCAC-1           5106.0     1613               1611        5101.0   \n",
            "AAACCCACATCCAATG-1           4572.0     1798               1795        4567.0   \n",
            "\n",
            "                    total_counts_mt  pct_counts_mt  \n",
            "AAACCCAAGCGCCCAT-1             52.0       2.362562  \n",
            "AAACCCACAGAGTTGG-1            633.0      10.761645  \n",
            "AAACCCACAGGTATGG-1            434.0       7.849521  \n",
            "AAACCCACATAGTCAC-1            553.0      10.841011  \n",
            "AAACCCACATCCAATG-1            411.0       8.999343  \n"
          ]
        }
      ]
    },
    {
      "cell_type": "code",
      "source": [
        "print(adata.var.head())  # Overview of gene metadata"
      ],
      "metadata": {
        "colab": {
          "base_uri": "https://localhost:8080/"
        },
        "id": "HsVa7z_Ctq6T",
        "outputId": "bb36c58b-9518-4ef2-bd9f-05ebcd659964"
      },
      "id": "HsVa7z_Ctq6T",
      "execution_count": null,
      "outputs": [
        {
          "output_type": "stream",
          "name": "stdout",
          "text": [
            "                feature_name\n",
            "ENSG00000187642        PERM1\n",
            "ENSG00000078808         SDF4\n",
            "ENSG00000272106   AL691432.2\n",
            "ENSG00000162585       FAAP20\n",
            "ENSG00000272088   AL512413.1\n"
          ]
        }
      ]
    },
    {
      "cell_type": "code",
      "source": [
        "print(type(adata.X))\n"
      ],
      "metadata": {
        "colab": {
          "base_uri": "https://localhost:8080/"
        },
        "id": "ArNPizwltvvx",
        "outputId": "6c7f50f0-3235-40c1-84b9-0294475a75ea"
      },
      "id": "ArNPizwltvvx",
      "execution_count": null,
      "outputs": [
        {
          "output_type": "stream",
          "name": "stdout",
          "text": [
            "<class 'scipy.sparse._csr.csr_matrix'>\n"
          ]
        }
      ]
    },
    {
      "cell_type": "code",
      "source": [
        "import seaborn as sns\n",
        "import matplotlib.pyplot as plt\n",
        "\n",
        "if 'total_counts' in adata.obs.columns:\n",
        "    sns.histplot(adata.obs['total_counts'], kde=True)\n",
        "    plt.title('Distribution of Total Counts')\n",
        "    plt.xlabel('Total Counts per Cell')\n",
        "    plt.ylabel('Frequency')\n",
        "    plt.show()\n",
        "\n",
        "if 'n_genes_by_counts' in adata.obs.columns:\n",
        "    sns.histplot(adata.obs['n_genes_by_counts'], kde=True)\n",
        "    plt.title('Distribution of Genes Detected per Cell')\n",
        "    plt.xlabel('Number of Genes')\n",
        "    plt.ylabel('Frequency')\n",
        "    plt.show()"
      ],
      "metadata": {
        "colab": {
          "base_uri": "https://localhost:8080/",
          "height": 927
        },
        "id": "9-FiseArt9c8",
        "outputId": "936915e2-19cf-4995-9bef-92bab078e022"
      },
      "id": "9-FiseArt9c8",
      "execution_count": null,
      "outputs": [
        {
          "output_type": "display_data",
          "data": {
            "text/plain": [
              "<Figure size 640x480 with 1 Axes>"
            ],
            "image/png": "[encoded data removed]"
          },
          "metadata": {}
        },
        {
          "output_type": "display_data",
          "data": {
            "text/plain": [
              "<Figure size 640x480 with 1 Axes>"
            ],
            "image/png": "[encoded data removed]"
          },
          "metadata": {}
        }
      ]
    },
    {
      "cell_type": "code",
      "source": [
        "# For example, saving cell metadata summary to CSV\n",
        "adata.obs.to_csv('cell_metadata_summary.csv')\n"
      ],
      "metadata": {
        "id": "OV8-aGKAuOGX"
      },
      "id": "OV8-aGKAuOGX",
      "execution_count": null,
      "outputs": []
    },
    {
      "cell_type": "markdown",
      "id": "d11cc7c0-f6e1-4820-ba5c-80e3524a2c90",
      "metadata": {
        "id": "d11cc7c0-f6e1-4820-ba5c-80e3524a2c90"
      },
      "source": [
        "Representation of the sparse count matrix. (Output of how the slice of raw count matrix looks like)"
      ]
    },
    {
      "cell_type": "code",
      "execution_count": null,
      "id": "a5e053f8-e209-4641-924f-3feca02a929d",
      "metadata": {
        "tags": [],
        "colab": {
          "base_uri": "https://localhost:8080/"
        },
        "id": "a5e053f8-e209-4641-924f-3feca02a929d",
        "outputId": "491648a2-aad4-4706-8147-046a8c49af22"
      },
      "outputs": [
        {
          "output_type": "execute_result",
          "data": {
            "text/plain": [
              "matrix([[0., 0., 1., 0., 0., 0., 0., 0., 0., 0.],\n",
              "        [0., 0., 2., 5., 0., 0., 0., 0., 0., 0.],\n",
              "        [0., 0., 1., 0., 0., 0., 0., 0., 0., 0.],\n",
              "        [0., 0., 0., 0., 0., 0., 0., 0., 0., 0.],\n",
              "        [0., 0., 2., 0., 0., 0., 0., 0., 0., 0.],\n",
              "        [0., 0., 5., 0., 0., 0., 0., 0., 0., 0.],\n",
              "        [0., 0., 1., 2., 0., 0., 0., 0., 0., 0.],\n",
              "        [0., 0., 2., 0., 0., 0., 0., 0., 0., 0.]], dtype=float32)"
            ]
          },
          "metadata": {},
          "execution_count": 16
        }
      ],
      "source": [
        "adata.X[:8, 1365:1375].todense()"
      ]
    },
    {
      "cell_type": "markdown",
      "id": "947fc6ab-ac37-4185-9ded-ded1ec4a11b7",
      "metadata": {
        "id": "947fc6ab-ac37-4185-9ded-ded1ec4a11b7"
      },
      "source": [
        "Feel free to explore the data more if needed..."
      ]
    },
    {
      "cell_type": "code",
      "execution_count": null,
      "id": "495ad646",
      "metadata": {
        "id": "495ad646",
        "colab": {
          "base_uri": "https://localhost:8080/",
          "height": 326
        },
        "outputId": "e553d0e8-313b-4b50-8d28-1fc816239fa1"
      },
      "outputs": [
        {
          "output_type": "execute_result",
          "data": {
            "text/plain": [
              "anndata._core.anndata.AnnData"
            ],
            "text/html": [
              "<div style=\"max-width:800px; border: 1px solid var(--colab-border-color);\"><style>\n",
              "      pre.function-repr-contents {\n",
              "        overflow-x: auto;\n",
              "        padding: 8px 12px;\n",
              "        max-height: 500px;\n",
              "      }\n",
              "\n",
              "      pre.function-repr-contents.function-repr-contents-collapsed {\n",
              "        cursor: pointer;\n",
              "        max-height: 100px;\n",
              "      }\n",
              "    </style>\n",
              "    <pre style=\"white-space: initial; background:\n",
              "         var(--colab-secondary-surface-color); padding: 8px 12px;\n",
              "         border-bottom: 1px solid var(--colab-border-color);\"><b>anndata._core.anndata.AnnData</b><br/>def __init__(X: np.ndarray | sparse.spmatrix | pd.DataFrame | None=None, obs: pd.DataFrame | Mapping[str, Iterable[Any]] | None=None, var: pd.DataFrame | Mapping[str, Iterable[Any]] | None=None, uns: Mapping[str, Any] | None=None, obsm: np.ndarray | Mapping[str, Sequence[Any]] | None=None, varm: np.ndarray | Mapping[str, Sequence[Any]] | None=None, layers: Mapping[str, np.ndarray | sparse.spmatrix] | None=None, raw: Mapping[str, Any] | None=None, dtype: np.dtype | type | str | None=None, shape: tuple[int, int] | None=None, filename: PathLike | None=None, filemode: Literal[&#x27;r&#x27;, &#x27;r+&#x27;] | None=None, asview: bool=False, *, obsp: np.ndarray | Mapping[str, Sequence[Any]] | None=None, varp: np.ndarray | Mapping[str, Sequence[Any]] | None=None, oidx: Index1D=None, vidx: Index1D=None)</pre><pre class=\"function-repr-contents function-repr-contents-collapsed\" style=\"\"><a class=\"filepath\" style=\"display:none\" href=\"#\">/usr/local/lib/python3.10/dist-packages/anndata/_core/anndata.py</a>An annotated data matrix.\n",
              "\n",
              ".. figure:: ../_static/img/anndata_schema.svg\n",
              "   :width: 260px\n",
              "   :align: right\n",
              "   :class: dark-light\n",
              "\n",
              ":class:`~anndata.AnnData` stores a data matrix :attr:`X` together with annotations\n",
              "of observations :attr:`obs` (:attr:`obsm`, :attr:`obsp`),\n",
              "variables :attr:`var` (:attr:`varm`, :attr:`varp`),\n",
              "and unstructured annotations :attr:`uns`.\n",
              "\n",
              "An :class:`~anndata.AnnData` object `adata` can be sliced like a\n",
              ":class:`~pandas.DataFrame`,\n",
              "for instance `adata_subset = adata[:, list_of_variable_names]`.\n",
              ":class:`~anndata.AnnData`’s basic structure is similar to R’s ExpressionSet\n",
              "[Huber15]_. If setting an `.h5ad`-formatted HDF5 backing file `.filename`,\n",
              "data remains on the disk but is automatically loaded into memory if needed.\n",
              "\n",
              "Parameters\n",
              "----------\n",
              "X\n",
              "    A #observations × #variables data matrix. A view of the data is used if the\n",
              "    data type matches, otherwise, a copy is made.\n",
              "obs\n",
              "    Key-indexed one-dimensional observations annotation of length #observations.\n",
              "var\n",
              "    Key-indexed one-dimensional variables annotation of length #variables.\n",
              "uns\n",
              "    Key-indexed unstructured annotation.\n",
              "obsm\n",
              "    Key-indexed multi-dimensional observations annotation of length #observations.\n",
              "    If passing a :class:`~numpy.ndarray`, it needs to have a structured datatype.\n",
              "varm\n",
              "    Key-indexed multi-dimensional variables annotation of length #variables.\n",
              "    If passing a :class:`~numpy.ndarray`, it needs to have a structured datatype.\n",
              "layers\n",
              "    Key-indexed multi-dimensional arrays aligned to dimensions of `X`.\n",
              "shape\n",
              "    Shape tuple (#observations, #variables). Can only be provided if `X` is `None`.\n",
              "filename\n",
              "    Name of backing file. See :class:`h5py.File`.\n",
              "filemode\n",
              "    Open mode of backing file. See :class:`h5py.File`.\n",
              "\n",
              "See Also\n",
              "--------\n",
              "read_h5ad\n",
              "read_csv\n",
              "read_excel\n",
              "read_hdf\n",
              "read_loom\n",
              "read_zarr\n",
              "read_mtx\n",
              "read_text\n",
              "read_umi_tools\n",
              "\n",
              "Notes\n",
              "-----\n",
              ":class:`~anndata.AnnData` stores observations (samples) of variables/features\n",
              "in the rows of a matrix.\n",
              "This is the convention of the modern classics of statistics [Hastie09]_\n",
              "and machine learning [Murphy12]_,\n",
              "the convention of dataframes both in R and Python and the established statistics\n",
              "and machine learning packages in Python (statsmodels_, scikit-learn_).\n",
              "\n",
              "Single dimensional annotations of the observation and variables are stored\n",
              "in the :attr:`obs` and :attr:`var` attributes as :class:`~pandas.DataFrame`\\ s.\n",
              "This is intended for metrics calculated over their axes.\n",
              "Multi-dimensional annotations are stored in :attr:`obsm` and :attr:`varm`,\n",
              "which are aligned to the objects observation and variable dimensions respectively.\n",
              "Square matrices representing graphs are stored in :attr:`obsp` and :attr:`varp`,\n",
              "with both of their own dimensions aligned to their associated axis.\n",
              "Additional measurements across both observations and variables are stored in\n",
              ":attr:`layers`.\n",
              "\n",
              "Indexing into an AnnData object can be performed by relative position\n",
              "with numeric indices (like pandas’ :meth:`~pandas.DataFrame.iloc`),\n",
              "or by labels (like :meth:`~pandas.DataFrame.loc`).\n",
              "To avoid ambiguity with numeric indexing into observations or variables,\n",
              "indexes of the AnnData object are converted to strings by the constructor.\n",
              "\n",
              "Subsetting an AnnData object by indexing into it will also subset its elements\n",
              "according to the dimensions they were aligned to.\n",
              "This means an operation like `adata[list_of_obs, :]` will also subset :attr:`obs`,\n",
              ":attr:`obsm`, and :attr:`layers`.\n",
              "\n",
              "Subsetting an AnnData object returns a view into the original object,\n",
              "meaning very little additional memory is used upon subsetting.\n",
              "This is achieved lazily, meaning that the constituent arrays are subset on access.\n",
              "Copying a view causes an equivalent “real” AnnData object to be generated.\n",
              "Attempting to modify a view (at any attribute except X) is handled\n",
              "in a copy-on-modify manner, meaning the object is initialized in place.\n",
              "Here’s an example::\n",
              "\n",
              "    batch1 = adata[adata.obs[&quot;batch&quot;] == &quot;batch1&quot;, :]\n",
              "    batch1.obs[&quot;value&quot;] = 0  # This makes batch1 a “real” AnnData object\n",
              "\n",
              "At the end of this snippet: `adata` was not modified,\n",
              "and `batch1` is its own AnnData object with its own data.\n",
              "\n",
              "Similar to Bioconductor’s `ExpressionSet` and :mod:`scipy.sparse` matrices,\n",
              "subsetting an AnnData object retains the dimensionality of its constituent arrays.\n",
              "Therefore, unlike with the classes exposed by :mod:`pandas`, :mod:`numpy`,\n",
              "and `xarray`, there is no concept of a one dimensional AnnData object.\n",
              "AnnDatas always have two inherent dimensions, :attr:`obs` and :attr:`var`.\n",
              "Additionally, maintaining the dimensionality of the AnnData object allows for\n",
              "consistent handling of :mod:`scipy.sparse` matrices and :mod:`numpy` arrays.\n",
              "\n",
              ".. _statsmodels: http://www.statsmodels.org/stable/index.html\n",
              ".. _scikit-learn: http://scikit-learn.org/</pre>\n",
              "      <script>\n",
              "      if (google.colab.kernel.accessAllowed && google.colab.files && google.colab.files.view) {\n",
              "        for (const element of document.querySelectorAll('.filepath')) {\n",
              "          element.style.display = 'block'\n",
              "          element.onclick = (event) => {\n",
              "            event.preventDefault();\n",
              "            event.stopPropagation();\n",
              "            google.colab.files.view(element.textContent, 112);\n",
              "          };\n",
              "        }\n",
              "      }\n",
              "      for (const element of document.querySelectorAll('.function-repr-contents')) {\n",
              "        element.onclick = (event) => {\n",
              "          event.preventDefault();\n",
              "          event.stopPropagation();\n",
              "          element.classList.toggle('function-repr-contents-collapsed');\n",
              "        };\n",
              "      }\n",
              "      </script>\n",
              "      </div>"
            ]
          },
          "metadata": {},
          "execution_count": 7
        }
      ],
      "source": [
        "type(adata)"
      ]
    },
    {
      "cell_type": "code",
      "execution_count": null,
      "id": "66b9bbdb",
      "metadata": {
        "id": "66b9bbdb",
        "colab": {
          "base_uri": "https://localhost:8080/"
        },
        "outputId": "599fc3ed-620e-4883-d1dd-e414ce6925d6"
      },
      "outputs": [
        {
          "output_type": "execute_result",
          "data": {
            "text/plain": [
              "array([[-8.1876917e+00, -4.6821318e+00, -3.5246642e+00, ...,\n",
              "         1.9453032e+00,  1.5187016e+00,  3.8041594e+00],\n",
              "       [ 1.5765428e+01, -1.7717158e+00, -1.6964819e+00, ...,\n",
              "        -9.3396688e-01, -1.2859090e-01,  5.1628625e-01],\n",
              "       [-1.0010709e+01, -1.3899180e+01,  2.2678814e+01, ...,\n",
              "         5.9096986e-01,  3.4848340e+00,  2.7135963e+00],\n",
              "       ...,\n",
              "       [-9.5101681e+00, -5.2169461e+00,  9.2831385e-01, ...,\n",
              "         2.2692181e-01, -2.6684330e+00,  1.2178539e+00],\n",
              "       [-1.0123443e+01, -4.4491625e+00, -4.2090373e+00, ...,\n",
              "         5.7210505e-01,  1.6622834e+00, -1.6861050e-01],\n",
              "       [-9.6909933e+00, -2.6117182e+00, -8.2689772e+00, ...,\n",
              "        -1.8341672e+00,  5.3223449e-01,  7.0484942e-03]], dtype=float32)"
            ]
          },
          "metadata": {},
          "execution_count": 14
        }
      ],
      "source": [
        "adata.obsm['X_pca']"
      ]
    },
    {
      "cell_type": "markdown",
      "id": "34245ead-f72d-4b59-862c-88dfbdffc9ea",
      "metadata": {
        "id": "34245ead-f72d-4b59-862c-88dfbdffc9ea"
      },
      "source": [
        "## Embeddings\n",
        "\n",
        "This step is totally unnecessary for the challenge, however for a better understanding, this is what kind of the output, the embedding model (in our case PCA) returns (this value is just a dummy value based on random numbers, but the output looks exactly like this)."
      ]
    },
    {
      "cell_type": "code",
      "execution_count": null,
      "id": "b674ddbc-de3b-40df-a1f3-c9be3877b9b9",
      "metadata": {
        "id": "b674ddbc-de3b-40df-a1f3-c9be3877b9b9"
      },
      "outputs": [],
      "source": [
        "import numpy as np\n",
        "\n",
        "\n",
        "EMBEDDING_DIMENSION = 512\n",
        "\n",
        "embeddings = np.random.random((adata.shape[0], EMBEDDING_DIMENSION))"
      ]
    },
    {
      "cell_type": "code",
      "source": [
        "\n",
        "embeddings.shape"
      ],
      "metadata": {
        "colab": {
          "base_uri": "https://localhost:8080/"
        },
        "id": "m0P3qoxNopWy",
        "outputId": "7d594769-800d-44b2-9cad-084215b8d1e9"
      },
      "id": "m0P3qoxNopWy",
      "execution_count": null,
      "outputs": [
        {
          "output_type": "execute_result",
          "data": {
            "text/plain": [
              "(10246, 512)"
            ]
          },
          "metadata": {},
          "execution_count": 19
        }
      ]
    },
    {
      "cell_type": "code",
      "execution_count": null,
      "id": "b02d151f",
      "metadata": {
        "colab": {
          "base_uri": "https://localhost:8080/"
        },
        "id": "b02d151f",
        "outputId": "e5ee4d1c-db8e-4cd8-d7f2-4dbfe5d87f1c"
      },
      "outputs": [
        {
          "output_type": "execute_result",
          "data": {
            "text/plain": [
              "array([[0.49979086, 0.2689806 , 0.53886944, ..., 0.02040425, 0.1119614 ,\n",
              "        0.89250728],\n",
              "       [0.32824924, 0.47578095, 0.42920814, ..., 0.70959307, 0.78508923,\n",
              "        0.52064791],\n",
              "       [0.3885322 , 0.17299391, 0.36134574, ..., 0.73097476, 0.63217245,\n",
              "        0.69973869],\n",
              "       [0.86349002, 0.72868463, 0.30907659, ..., 0.8016953 , 0.55210423,\n",
              "        0.96306335],\n",
              "       [0.68226687, 0.65746   , 0.54526539, ..., 0.59535313, 0.95914572,\n",
              "        0.33426509]])"
            ]
          },
          "metadata": {},
          "execution_count": 20
        }
      ],
      "source": [
        "embeddings[:5]"
      ]
    },
    {
      "cell_type": "markdown",
      "id": "5ca5946c",
      "metadata": {
        "id": "5ca5946c"
      },
      "source": [
        "## Diving in details with the challenge problem"
      ]
    },
    {
      "cell_type": "code",
      "execution_count": null,
      "id": "28529ffe",
      "metadata": {
        "colab": {
          "base_uri": "https://localhost:8080/"
        },
        "id": "28529ffe",
        "outputId": "5451c148-0635-4763-b165-65a5ba6fbfcd"
      },
      "outputs": [
        {
          "output_type": "stream",
          "name": "stdout",
          "text": [
            "--2024-06-07 17:35:49--  https://storage.googleapis.com/dsp-cellarium-cas-public/neu-broad-challenge/neu_broad_challenge_inputs.pkl\n",
            "Resolving storage.googleapis.com (storage.googleapis.com)... 142.251.180.207, 74.125.126.207, 74.125.132.207, ...\n",
            "Connecting to storage.googleapis.com (storage.googleapis.com)|142.251.180.207|:443... connected.\n",
            "HTTP request sent, awaiting response... 200 OK\n",
            "Length: 50054196 (48M) [application/octet-stream]\n",
            "Saving to: ‘neu_broad_challenge_inputs.pkl’\n",
            "\n",
            "neu_broad_challenge 100%[===================>]  47.74M  57.8MB/s    in 0.8s    \n",
            "\n",
            "2024-06-07 17:35:50 (57.8 MB/s) - ‘neu_broad_challenge_inputs.pkl’ saved [50054196/50054196]\n",
            "\n"
          ]
        }
      ],
      "source": [
        "!wget https://storage.googleapis.com/dsp-cellarium-cas-public/neu-broad-challenge/neu_broad_challenge_inputs.pkl"
      ]
    },
    {
      "cell_type": "code",
      "execution_count": null,
      "id": "475be603-05d4-4cc2-8419-af788aa505d0",
      "metadata": {
        "tags": [],
        "id": "475be603-05d4-4cc2-8419-af788aa505d0"
      },
      "outputs": [],
      "source": [
        "import pickle\n",
        "\n",
        "\n",
        "with open(\"./neu_broad_challenge_inputs.pkl\", \"rb\") as f:\n",
        "    data = pickle.loads(f.read())"
      ]
    },
    {
      "cell_type": "code",
      "source": [
        "print(len(data['cas_search_output']))"
      ],
      "metadata": {
        "colab": {
          "base_uri": "https://localhost:8080/"
        },
        "id": "kdCZCgwr4Hw-",
        "outputId": "9f102295-280b-44a7-e9cd-255ebf0b233a"
      },
      "id": "kdCZCgwr4Hw-",
      "execution_count": null,
      "outputs": [
        {
          "output_type": "stream",
          "name": "stdout",
          "text": [
            "10246\n"
          ]
        }
      ]
    },
    {
      "cell_type": "code",
      "execution_count": null,
      "id": "29549b4c-428c-4426-bcf8-cd79d8224f44",
      "metadata": {
        "tags": [],
        "colab": {
          "base_uri": "https://localhost:8080/"
        },
        "id": "29549b4c-428c-4426-bcf8-cd79d8224f44",
        "outputId": "b7ff139a-f8c0-4954-c263-fe2c20e2fbc2"
      },
      "outputs": [
        {
          "output_type": "execute_result",
          "data": {
            "text/plain": [
              "dict_keys(['cas_search_output', 'cas_search_all_neighbors_info'])"
            ]
          },
          "metadata": {},
          "execution_count": 23
        }
      ],
      "source": [
        "data.keys()"
      ]
    },
    {
      "cell_type": "markdown",
      "id": "c3b0bb6d-9fd9-4057-a88b-e44d75a74489",
      "metadata": {
        "id": "c3b0bb6d-9fd9-4057-a88b-e44d75a74489"
      },
      "source": [
        "## Nearest Neighbor Search Engine\n",
        "Here's how the output of nearest neighbor search engine looks like. It represents the query_cell_id (the id that user had for each of the input cell) and all neighbors with the distances from the Nearest Neighbor Search Engine."
      ]
    },
    {
      "cell_type": "code",
      "execution_count": null,
      "id": "02bed153-4af9-41ed-88ed-6c633f376f42",
      "metadata": {
        "tags": [],
        "colab": {
          "base_uri": "https://localhost:8080/"
        },
        "id": "02bed153-4af9-41ed-88ed-6c633f376f42",
        "outputId": "12ff8e82-93da-4ad7-d8c0-7e8fc4f5d440"
      },
      "outputs": [
        {
          "output_type": "execute_result",
          "data": {
            "text/plain": [
              "{'query_cell_id': 'AAACCCAAGCGCCCAT-1',\n",
              " 'neighbors': [{'cas_cell_index': 1296050365, 'distance': 0.9412596821784973},\n",
              "  {'cas_cell_index': 1290040494, 'distance': 0.9352086186408997},\n",
              "  {'cas_cell_index': 1280046547, 'distance': 0.9350166916847229},\n",
              "  {'cas_cell_index': 1288030475, 'distance': 0.9347577095031738},\n",
              "  {'cas_cell_index': 1384039004, 'distance': 0.9340347051620483},\n",
              "  {'cas_cell_index': 1524030840, 'distance': 0.9334846138954163},\n",
              "  {'cas_cell_index': 1288073094, 'distance': 0.933451235294342},\n",
              "  {'cas_cell_index': 1286087458, 'distance': 0.9332631230354309},\n",
              "  {'cas_cell_index': 1292095003, 'distance': 0.9331009387969971},\n",
              "  {'cas_cell_index': 1288025170, 'distance': 0.9326092004776001},\n",
              "  {'cas_cell_index': 1294014990, 'distance': 0.9325372576713562},\n",
              "  {'cas_cell_index': 1288025655, 'distance': 0.9325371980667114},\n",
              "  {'cas_cell_index': 1288027118, 'distance': 0.9320809841156006},\n",
              "  {'cas_cell_index': 1290041315, 'distance': 0.9316831231117249},\n",
              "  {'cas_cell_index': 1296032344, 'distance': 0.9315023422241211},\n",
              "  {'cas_cell_index': 1296050349, 'distance': 0.9309550523757935},\n",
              "  {'cas_cell_index': 1290018397, 'distance': 0.9309102296829224},\n",
              "  {'cas_cell_index': 1282072077, 'distance': 0.9302608966827393},\n",
              "  {'cas_cell_index': 1290020504, 'distance': 0.9301972389221191},\n",
              "  {'cas_cell_index': 1288070345, 'distance': 0.9297555088996887},\n",
              "  {'cas_cell_index': 1282020289, 'distance': 0.9293107390403748},\n",
              "  {'cas_cell_index': 1294068767, 'distance': 0.929183840751648},\n",
              "  {'cas_cell_index': 1282021730, 'distance': 0.9291795492172241},\n",
              "  {'cas_cell_index': 1290002621, 'distance': 0.9286359548568726},\n",
              "  {'cas_cell_index': 1286086108, 'distance': 0.9285467267036438},\n",
              "  {'cas_cell_index': 1288070185, 'distance': 0.9284275770187378},\n",
              "  {'cas_cell_index': 1280091339, 'distance': 0.9283729791641235},\n",
              "  {'cas_cell_index': 1286088817, 'distance': 0.9283483624458313},\n",
              "  {'cas_cell_index': 1290019605, 'distance': 0.9280558824539185},\n",
              "  {'cas_cell_index': 1294013973, 'distance': 0.9279471635818481},\n",
              "  {'cas_cell_index': 330014256, 'distance': 0.9278801679611206},\n",
              "  {'cas_cell_index': 1384036964, 'distance': 0.9277369379997253},\n",
              "  {'cas_cell_index': 1524064241, 'distance': 0.9277068972587585},\n",
              "  {'cas_cell_index': 1280006013, 'distance': 0.927577555179596},\n",
              "  {'cas_cell_index': 330004529, 'distance': 0.9274558424949646},\n",
              "  {'cas_cell_index': 1288071709, 'distance': 0.9273488521575928},\n",
              "  {'cas_cell_index': 1294070024, 'distance': 0.9272472858428955},\n",
              "  {'cas_cell_index': 1294014333, 'distance': 0.9272420406341553},\n",
              "  {'cas_cell_index': 1280007389, 'distance': 0.927161455154419},\n",
              "  {'cas_cell_index': 1288026926, 'distance': 0.9269845485687256},\n",
              "  {'cas_cell_index': 1384036410, 'distance': 0.9269555807113647},\n",
              "  {'cas_cell_index': 1280047028, 'distance': 0.9268622398376465},\n",
              "  {'cas_cell_index': 1296042406, 'distance': 0.9266003370285034},\n",
              "  {'cas_cell_index': 1288070511, 'distance': 0.926548421382904},\n",
              "  {'cas_cell_index': 1288025138, 'distance': 0.9264793992042542},\n",
              "  {'cas_cell_index': 1282078521, 'distance': 0.9264577627182007},\n",
              "  {'cas_cell_index': 1280045719, 'distance': 0.9263575077056885},\n",
              "  {'cas_cell_index': 1294041611, 'distance': 0.9262016415596008},\n",
              "  {'cas_cell_index': 1290087129, 'distance': 0.9261753559112549},\n",
              "  {'cas_cell_index': 1286086382, 'distance': 0.9261747598648071},\n",
              "  {'cas_cell_index': 1288094676, 'distance': 0.9260026216506958},\n",
              "  {'cas_cell_index': 1296050245, 'distance': 0.9259862899780273},\n",
              "  {'cas_cell_index': 1382081698, 'distance': 0.9259652495384216},\n",
              "  {'cas_cell_index': 1294071614, 'distance': 0.9258860349655151},\n",
              "  {'cas_cell_index': 1288024297, 'distance': 0.9258553981781006},\n",
              "  {'cas_cell_index': 1288027427, 'distance': 0.925828218460083},\n",
              "  {'cas_cell_index': 1290021057, 'distance': 0.9257959127426147},\n",
              "  {'cas_cell_index': 1288002253, 'distance': 0.9257335662841797},\n",
              "  {'cas_cell_index': 1286058627, 'distance': 0.925710916519165},\n",
              "  {'cas_cell_index': 1384036551, 'distance': 0.925621509552002},\n",
              "  {'cas_cell_index': 1280046798, 'distance': 0.9256199598312378},\n",
              "  {'cas_cell_index': 1384042645, 'distance': 0.9255855083465576},\n",
              "  {'cas_cell_index': 1286089613, 'distance': 0.9255626201629639},\n",
              "  {'cas_cell_index': 1294069949, 'distance': 0.9255566596984863},\n",
              "  {'cas_cell_index': 1382089066, 'distance': 0.9255445003509521},\n",
              "  {'cas_cell_index': 1288031335, 'distance': 0.9254317283630371},\n",
              "  {'cas_cell_index': 780020998, 'distance': 0.9253841042518616},\n",
              "  {'cas_cell_index': 1296049859, 'distance': 0.9252730011940002},\n",
              "  {'cas_cell_index': 1286093409, 'distance': 0.9252683520317078},\n",
              "  {'cas_cell_index': 1288071854, 'distance': 0.925143837928772},\n",
              "  {'cas_cell_index': 1294040381, 'distance': 0.9250690937042236},\n",
              "  {'cas_cell_index': 1290087228, 'distance': 0.9250544309616089},\n",
              "  {'cas_cell_index': 1288009334, 'distance': 0.9250462651252747},\n",
              "  {'cas_cell_index': 1296026236, 'distance': 0.9250071048736572},\n",
              "  {'cas_cell_index': 330004550, 'distance': 0.924992024898529},\n",
              "  {'cas_cell_index': 1294005979, 'distance': 0.9248859286308289},\n",
              "  {'cas_cell_index': 1290019109, 'distance': 0.9248754382133484},\n",
              "  {'cas_cell_index': 1288029813, 'distance': 0.924834132194519},\n",
              "  {'cas_cell_index': 1384041766, 'distance': 0.9248128533363342},\n",
              "  {'cas_cell_index': 1296096386, 'distance': 0.9247932434082031},\n",
              "  {'cas_cell_index': 1280085674, 'distance': 0.9247654676437378},\n",
              "  {'cas_cell_index': 1288028527, 'distance': 0.9247095584869385},\n",
              "  {'cas_cell_index': 1382084642, 'distance': 0.9246824979782104},\n",
              "  {'cas_cell_index': 1290019467, 'distance': 0.9246820211410522},\n",
              "  {'cas_cell_index': 1290087076, 'distance': 0.9245791435241699},\n",
              "  {'cas_cell_index': 1296041899, 'distance': 0.9245758652687073},\n",
              "  {'cas_cell_index': 1524011004, 'distance': 0.9245134592056274},\n",
              "  {'cas_cell_index': 1288023924, 'distance': 0.9244949221611023},\n",
              "  {'cas_cell_index': 1280052662, 'distance': 0.9244838953018188},\n",
              "  {'cas_cell_index': 1280072755, 'distance': 0.9244379997253418},\n",
              "  {'cas_cell_index': 1280046136, 'distance': 0.924429178237915},\n",
              "  {'cas_cell_index': 1288062486, 'distance': 0.9244285225868225},\n",
              "  {'cas_cell_index': 1294040073, 'distance': 0.9242842197418213},\n",
              "  {'cas_cell_index': 1288095364, 'distance': 0.9242804646492004},\n",
              "  {'cas_cell_index': 1294043698, 'distance': 0.924280047416687},\n",
              "  {'cas_cell_index': 1290014098, 'distance': 0.9242409467697144},\n",
              "  {'cas_cell_index': 1288027027, 'distance': 0.9242324233055115},\n",
              "  {'cas_cell_index': 1286088662, 'distance': 0.9242134094238281},\n",
              "  {'cas_cell_index': 1298018714, 'distance': 0.9241713881492615},\n",
              "  {'cas_cell_index': 1288027163, 'distance': 0.9241625070571899}]}"
            ]
          },
          "metadata": {},
          "execution_count": 30
        }
      ],
      "source": [
        "nearest_neighbors = data[\"cas_search_output\"]\n",
        "nearest_neighbors[0]"
      ]
    },
    {
      "cell_type": "code",
      "execution_count": null,
      "id": "83fb7013",
      "metadata": {
        "colab": {
          "base_uri": "https://localhost:8080/"
        },
        "id": "83fb7013",
        "outputId": "39530de9-65f2-4b16-e27b-cd8e645a6e54"
      },
      "outputs": [
        {
          "output_type": "execute_result",
          "data": {
            "text/plain": [
              "10246"
            ]
          },
          "metadata": {},
          "execution_count": 25
        }
      ],
      "source": [
        "len(nearest_neighbors)"
      ]
    },
    {
      "cell_type": "code",
      "source": [
        "cas_search_all_neighbors_info = data['cas_search_all_neighbors_info']\n",
        "print(\"Type of cas_search_all_neighbors_info:\", type(cas_search_all_neighbors_info))\n",
        "print(\"Preview of cas_search_all_neighbors_info:\", cas_search_all_neighbors_info[0])  # Adjust based on actual data type"
      ],
      "metadata": {
        "colab": {
          "base_uri": "https://localhost:8080/"
        },
        "id": "tJs8QzaNpKV9",
        "outputId": "959e279e-763d-4b74-d0e7-c2cc40f41778"
      },
      "id": "tJs8QzaNpKV9",
      "execution_count": null,
      "outputs": [
        {
          "output_type": "stream",
          "name": "stdout",
          "text": [
            "Type of cas_search_all_neighbors_info: <class 'list'>\n",
            "Preview of cas_search_all_neighbors_info: {'cas_cell_index': 1524109823, 'cell_type': 'central memory CD8-positive, alpha-beta T cell', 'assay': \"10x 3' v3\", 'disease': 'normal', 'suspension_type': 'cell', 'tissue': 'blood', 'cell_type_ontology_term_id': 'CL:0000907', 'assay_ontology_term_id': 'EFO:0009922', 'disease_ontology_term_id': 'PATO:0000461', 'tissue_ontology_term_id': 'UBERON:0000178'}\n"
          ]
        }
      ]
    },
    {
      "cell_type": "code",
      "source": [
        "len(cas_search_all_neighbors_info)"
      ],
      "metadata": {
        "colab": {
          "base_uri": "https://localhost:8080/"
        },
        "id": "HzXdlR7F2USN",
        "outputId": "af605a58-f6c4-40ed-8052-662e042285d9"
      },
      "id": "HzXdlR7F2USN",
      "execution_count": null,
      "outputs": [
        {
          "output_type": "execute_result",
          "data": {
            "text/plain": [
              "113412"
            ]
          },
          "metadata": {},
          "execution_count": 31
        }
      ]
    },
    {
      "cell_type": "markdown",
      "id": "b1a287e3-c9ad-49eb-949f-96d7c08fb0b3",
      "metadata": {
        "id": "b1a287e3-c9ad-49eb-949f-96d7c08fb0b3"
      },
      "source": [
        "## Cell Metadata\n",
        "\n",
        "Here is what metdata we store in our database. You can match the cell metadata by `cas_cell_index` and use it for neighborhood context composition. You would need `cell_type` and `cell_type_ontology_term_id` for this task and can ignore other features variables."
      ]
    },
    {
      "cell_type": "code",
      "execution_count": null,
      "id": "78a557ab-8119-43b8-9ddd-b7b0acd1bcdf",
      "metadata": {
        "tags": [],
        "colab": {
          "base_uri": "https://localhost:8080/"
        },
        "id": "78a557ab-8119-43b8-9ddd-b7b0acd1bcdf",
        "outputId": "cd21b64c-30a5-4e16-eae8-6110a6942a53"
      },
      "outputs": [
        {
          "output_type": "execute_result",
          "data": {
            "text/plain": [
              "{'cas_cell_index': 1524109823,\n",
              " 'cell_type': 'central memory CD8-positive, alpha-beta T cell',\n",
              " 'assay': \"10x 3' v3\",\n",
              " 'disease': 'normal',\n",
              " 'suspension_type': 'cell',\n",
              " 'tissue': 'blood',\n",
              " 'cell_type_ontology_term_id': 'CL:0000907',\n",
              " 'assay_ontology_term_id': 'EFO:0009922',\n",
              " 'disease_ontology_term_id': 'PATO:0000461',\n",
              " 'tissue_ontology_term_id': 'UBERON:0000178'}"
            ]
          },
          "metadata": {},
          "execution_count": 38
        }
      ],
      "source": [
        "data[\"cas_search_all_neighbors_info\"][0]"
      ]
    },
    {
      "cell_type": "code",
      "source": [
        "# Initialize a set to store the cas_cell_index values\n",
        "index_set = set()\n",
        "\n",
        "# Initialize a variable to check uniqueness\n",
        "is_unique = True\n",
        "\n",
        "# Iterate over the list containing the dictionary entries\n",
        "for entry in data[\"cas_search_all_neighbors_info\"]:\n",
        "    # Check if cas_cell_index is already in the set\n",
        "    if entry['cas_cell_index'] in index_set:\n",
        "        is_unique = False\n",
        "        print(f\"Duplicate cas_cell_index found: {entry['cas_cell_index']}\")\n",
        "        break  # Optional: stop at first duplicate\n",
        "    else:\n",
        "        # Add the cas_cell_index to the set\n",
        "        index_set.add(entry['cas_cell_index'])\n",
        "\n",
        "if is_unique:\n",
        "    print(\"All cas_cell_index values are unique.\")\n",
        "else:\n",
        "    print(\"There are duplicate cas_cell_index values in the data.\")\n"
      ],
      "metadata": {
        "colab": {
          "base_uri": "https://localhost:8080/"
        },
        "id": "LjoCXcYF5lRB",
        "outputId": "56ccacd5-fe40-4766-8a11-195791d02912"
      },
      "id": "LjoCXcYF5lRB",
      "execution_count": null,
      "outputs": [
        {
          "output_type": "stream",
          "name": "stdout",
          "text": [
            "All cas_cell_index values are unique.\n"
          ]
        }
      ]
    },
    {
      "cell_type": "code",
      "source": [
        "print(len(index_set))"
      ],
      "metadata": {
        "colab": {
          "base_uri": "https://localhost:8080/"
        },
        "id": "esSEaYAk5oI1",
        "outputId": "96455a58-3412-440b-9776-412cdff379b0"
      },
      "id": "esSEaYAk5oI1",
      "execution_count": null,
      "outputs": [
        {
          "output_type": "stream",
          "name": "stdout",
          "text": [
            "113412\n"
          ]
        }
      ]
    },
    {
      "cell_type": "markdown",
      "id": "b9d4ff80",
      "metadata": {
        "id": "b9d4ff80"
      },
      "source": [
        "You might potentially need owlready2 to explore the cell ontology graph"
      ]
    },
    {
      "cell_type": "code",
      "execution_count": null,
      "id": "a3a717f6",
      "metadata": {
        "id": "a3a717f6",
        "colab": {
          "base_uri": "https://localhost:8080/"
        },
        "outputId": "66a637f4-f57c-476f-81af-fe5835b99234"
      },
      "outputs": [
        {
          "output_type": "stream",
          "name": "stdout",
          "text": [
            "Collecting owlready2\n",
            "  Downloading owlready2-0.46.tar.gz (27.4 MB)\n",
            "\u001b[2K     \u001b[90m━━━━━━━━━━━━━━━━━━━━━━━━━━━━━━━━━━━━━━━━\u001b[0m \u001b[32m27.4/27.4 MB\u001b[0m \u001b[31m28.8 MB/s\u001b[0m eta \u001b[36m0:00:00\u001b[0m\n",
            "\u001b[?25h  Installing build dependencies ... \u001b[?25l\u001b[?25hdone\n",
            "  Getting requirements to build wheel ... \u001b[?25l\u001b[?25hdone\n",
            "  Preparing metadata (pyproject.toml) ... \u001b[?25l\u001b[?25hdone\n",
            "Building wheels for collected packages: owlready2\n",
            "  Building wheel for owlready2 (pyproject.toml) ... \u001b[?25l\u001b[?25hdone\n",
            "  Created wheel for owlready2: filename=owlready2-0.46-cp310-cp310-linux_x86_64.whl size=24087770 sha256=bdc948281415f2a172e3c76b77ebab5cc9bf44604ddff3777c42f61f82e80e81\n",
            "  Stored in directory: /root/.cache/pip/wheels/bf/6f/ef/35df148baa59fc6b243aca4f101e17aed14b67dc1166b73fe0\n",
            "Successfully built owlready2\n",
            "Installing collected packages: owlready2\n",
            "Successfully installed owlready2-0.46\n"
          ]
        }
      ],
      "source": [
        "# Uncomment if needed\n",
        "!pip install owlready2"
      ]
    },
    {
      "cell_type": "markdown",
      "id": "89166021",
      "metadata": {
        "id": "89166021"
      },
      "source": [
        "Here is the Cell Ontology OWL file"
      ]
    },
    {
      "cell_type": "code",
      "execution_count": null,
      "id": "567c28ce",
      "metadata": {
        "id": "567c28ce"
      },
      "outputs": [],
      "source": [
        "cl_owl_path = 'https://github.com/obophenotype/cell-ontology/raw/v2022-09-15/cl.owl'"
      ]
    },
    {
      "cell_type": "code",
      "source": [
        "from owlready2 import *\n",
        "\n",
        "# Load the ontology\n",
        "onto = get_ontology(cl_owl_path).load()\n",
        "print(type(onto))\n"
      ],
      "metadata": {
        "colab": {
          "base_uri": "https://localhost:8080/",
          "height": 107
        },
        "id": "HRwulO8ohcFc",
        "outputId": "cc28d2ec-2895-4cf8-9a5a-884217e7f0a5"
      },
      "id": "HRwulO8ohcFc",
      "execution_count": null,
      "outputs": [
        {
          "output_type": "stream",
          "name": "stdout",
          "text": [
            "<class 'owlready2.namespace.Ontology'>\n"
          ]
        },
        {
          "output_type": "execute_result",
          "data": {
            "text/plain": [
              "'\\n# Print classes in the ontology\\nprint(\"Classes in the ontology:\")\\nfor cls in onto.classes():\\n    print(cls)\\n\\n# Print individuals in the ontology\\nprint(\"\\nIndividuals in the ontology:\")\\nfor indiv in onto.individuals():\\n    print(indiv)\\n\\n# Print object properties in the ontology\\nprint(\"\\nObject properties in the ontology:\")\\nfor prop in onto.object_properties():\\n    print(prop)\\n\\n# Print data properties in the ontology\\nprint(\"\\nData properties in the ontology:\")\\nfor prop in onto.data_properties():\\n    print(prop)\\n'"
            ],
            "application/vnd.google.colaboratory.intrinsic+json": {
              "type": "string"
            }
          },
          "metadata": {},
          "execution_count": 43
        }
      ]
    },
    {
      "cell_type": "code",
      "source": [
        "print(onto)"
      ],
      "metadata": {
        "colab": {
          "base_uri": "https://localhost:8080/"
        },
        "id": "4S4mzYVM6U69",
        "outputId": "8cac94b5-2ec0-45c4-c260-4d764bfd7495"
      },
      "id": "4S4mzYVM6U69",
      "execution_count": null,
      "outputs": [
        {
          "output_type": "stream",
          "name": "stdout",
          "text": [
            "get_ontology(\"http://purl.obolibrary.org/obo/cl.owl#\")\n"
          ]
        }
      ]
    },
    {
      "cell_type": "code",
      "source": [
        "print(\"Classes in the ontology:\")\n",
        "size=0\n",
        "\n",
        "for cls in onto.classes():\n",
        "    print(cls.name)\n",
        "    size+=1\n",
        "print(size)\n"
      ],
      "metadata": {
        "id": "OzbgqnfS6qJg"
      },
      "id": "OzbgqnfS6qJg",
      "execution_count": null,
      "outputs": []
    },
    {
      "cell_type": "code",
      "source": [
        "cls.label"
      ],
      "metadata": {
        "id": "WKPaMSulkZ6t",
        "colab": {
          "base_uri": "https://localhost:8080/"
        },
        "outputId": "6b11edfc-e0da-4157-db2a-83acb28e3c53"
      },
      "id": "WKPaMSulkZ6t",
      "execution_count": null,
      "outputs": [
        {
          "output_type": "execute_result",
          "data": {
            "text/plain": [
              "['placental vein']"
            ]
          },
          "metadata": {},
          "execution_count": 48
        }
      ]
    },
    {
      "cell_type": "code",
      "source": [
        "cls.name"
      ],
      "metadata": {
        "colab": {
          "base_uri": "https://localhost:8080/",
          "height": 35
        },
        "id": "4MogtN6z7N-F",
        "outputId": "6b7d1469-8709-4e86-89f3-f57912c908cf"
      },
      "id": "4MogtN6z7N-F",
      "execution_count": null,
      "outputs": [
        {
          "output_type": "execute_result",
          "data": {
            "text/plain": [
              "'UBERON_8480008'"
            ],
            "application/vnd.google.colaboratory.intrinsic+json": {
              "type": "string"
            }
          },
          "metadata": {},
          "execution_count": 50
        }
      ]
    },
    {
      "cell_type": "code",
      "source": [
        "print(\"Individuals in the ontology:\")\n",
        "size=0\n",
        "for ind in onto.individuals():\n",
        "    print(ind, ind.label)\n",
        "    size+=1\n",
        "\n",
        "print(size)\n"
      ],
      "metadata": {
        "colab": {
          "base_uri": "https://localhost:8080/"
        },
        "id": "DMFQYWt17PUn",
        "outputId": "9e48e860-4517-4711-c2f4-cb3bfaac0ead"
      },
      "id": "DMFQYWt17PUn",
      "execution_count": null,
      "outputs": [
        {
          "output_type": "stream",
          "name": "stdout",
          "text": [
            "Individuals in the ontology:\n",
            "0\n"
          ]
        }
      ]
    },
    {
      "cell_type": "code",
      "source": [
        "print(\"Object properties in the ontology:\")\n",
        "for obj_prop in onto.object_properties():\n",
        "    print(obj_prop, obj_prop.label)\n"
      ],
      "metadata": {
        "id": "5ellIFOk7V6m"
      },
      "id": "5ellIFOk7V6m",
      "execution_count": null,
      "outputs": []
    },
    {
      "cell_type": "code",
      "source": [
        "print(\"Data properties in the ontology:\")\n",
        "for data_prop in onto.data_properties():\n",
        "    print(data_prop, data_prop.label)\n"
      ],
      "metadata": {
        "colab": {
          "base_uri": "https://localhost:8080/"
        },
        "id": "aaOjsJO67osh",
        "outputId": "03f3f5b0-eab5-4943-9f0e-bd2d928ab424"
      },
      "id": "aaOjsJO67osh",
      "execution_count": null,
      "outputs": [
        {
          "output_type": "stream",
          "name": "stdout",
          "text": [
            "Data properties in the ontology:\n"
          ]
        }
      ]
    },
    {
      "cell_type": "code",
      "source": [
        "print(\"Annotations in the ontology:\")\n",
        "for ann in onto.annotation_properties():\n",
        "    print(ann, ann.label)"
      ],
      "metadata": {
        "id": "iC4FtGQL76kH"
      },
      "id": "iC4FtGQL76kH",
      "execution_count": null,
      "outputs": []
    },
    {
      "cell_type": "code",
      "source": [
        "# graphviz is installed already, but need lib too\n",
        "!apt install libgraphviz-dev\n",
        "!pip install pygraphviz"
      ],
      "metadata": {
        "id": "d_RQQ-4p79J1"
      },
      "id": "d_RQQ-4p79J1",
      "execution_count": null,
      "outputs": []
    },
    {
      "cell_type": "code",
      "source": [
        "from owlready2 import *\n",
        "import pygraphviz as pgv\n",
        "onto = get_ontology(cl_owl_path).load()\n",
        "graph = onto.get_dot_graph()\n",
        "graph.write_png(\"ontology_visualization.png\")\n"
      ],
      "metadata": {
        "colab": {
          "base_uri": "https://localhost:8080/",
          "height": 198
        },
        "id": "sb6dCWi88E4m",
        "outputId": "5920e33c-d4e3-43b3-b74b-8da221f499da"
      },
      "id": "sb6dCWi88E4m",
      "execution_count": null,
      "outputs": [
        {
          "output_type": "error",
          "ename": "TypeError",
          "evalue": "'NoneType' object is not callable",
          "traceback": [
            "\u001b[0;31m---------------------------------------------------------------------------\u001b[0m",
            "\u001b[0;31mTypeError\u001b[0m                                 Traceback (most recent call last)",
            "\u001b[0;32m<ipython-input-61-e3209c4f99f7>\u001b[0m in \u001b[0;36m<cell line: 4>\u001b[0;34m()\u001b[0m\n\u001b[1;32m      2\u001b[0m \u001b[0;32mimport\u001b[0m \u001b[0mpygraphviz\u001b[0m \u001b[0;32mas\u001b[0m \u001b[0mpgv\u001b[0m\u001b[0;34m\u001b[0m\u001b[0;34m\u001b[0m\u001b[0m\n\u001b[1;32m      3\u001b[0m \u001b[0monto\u001b[0m \u001b[0;34m=\u001b[0m \u001b[0mget_ontology\u001b[0m\u001b[0;34m(\u001b[0m\u001b[0mcl_owl_path\u001b[0m\u001b[0;34m)\u001b[0m\u001b[0;34m.\u001b[0m\u001b[0mload\u001b[0m\u001b[0;34m(\u001b[0m\u001b[0;34m)\u001b[0m\u001b[0;34m\u001b[0m\u001b[0;34m\u001b[0m\u001b[0m\n\u001b[0;32m----> 4\u001b[0;31m \u001b[0mgraph\u001b[0m \u001b[0;34m=\u001b[0m \u001b[0monto\u001b[0m\u001b[0;34m.\u001b[0m\u001b[0mget_dot_graph\u001b[0m\u001b[0;34m(\u001b[0m\u001b[0;34m)\u001b[0m\u001b[0;34m\u001b[0m\u001b[0;34m\u001b[0m\u001b[0m\n\u001b[0m\u001b[1;32m      5\u001b[0m \u001b[0mgraph\u001b[0m\u001b[0;34m.\u001b[0m\u001b[0mwrite_png\u001b[0m\u001b[0;34m(\u001b[0m\u001b[0;34m\"ontology_visualization.png\"\u001b[0m\u001b[0;34m)\u001b[0m\u001b[0;34m\u001b[0m\u001b[0;34m\u001b[0m\u001b[0m\n",
            "\u001b[0;31mTypeError\u001b[0m: 'NoneType' object is not callable"
          ]
        }
      ]
    },
    {
      "cell_type": "markdown",
      "source": [
        "# Converting oncology to directed graph"
      ],
      "metadata": {
        "id": "s9EycBpjeNUS"
      },
      "id": "s9EycBpjeNUS"
    },
    {
      "cell_type": "code",
      "source": [
        "!pip install rdflib networkx"
      ],
      "metadata": {
        "id": "dYTfxmRy8u4u",
        "colab": {
          "base_uri": "https://localhost:8080/"
        },
        "outputId": "d79814fa-4123-49c5-9aab-b867a1495603"
      },
      "id": "dYTfxmRy8u4u",
      "execution_count": 44,
      "outputs": [
        {
          "output_type": "stream",
          "name": "stdout",
          "text": [
            "Collecting rdflib\n",
            "  Downloading rdflib-7.0.0-py3-none-any.whl (531 kB)\n",
            "\u001b[2K     \u001b[90m━━━━━━━━━━━━━━━━━━━━━━━━━━━━━━━━━━━━━━━━\u001b[0m \u001b[32m531.9/531.9 kB\u001b[0m \u001b[31m8.2 MB/s\u001b[0m eta \u001b[36m0:00:00\u001b[0m\n",
            "\u001b[?25hRequirement already satisfied: networkx in /usr/local/lib/python3.10/dist-packages (3.3)\n",
            "Collecting isodate<0.7.0,>=0.6.0 (from rdflib)\n",
            "  Downloading isodate-0.6.1-py2.py3-none-any.whl (41 kB)\n",
            "\u001b[2K     \u001b[90m━━━━━━━━━━━━━━━━━━━━━━━━━━━━━━━━━━━━━━━━\u001b[0m \u001b[32m41.7/41.7 kB\u001b[0m \u001b[31m5.0 MB/s\u001b[0m eta \u001b[36m0:00:00\u001b[0m\n",
            "\u001b[?25hRequirement already satisfied: pyparsing<4,>=2.1.0 in /usr/local/lib/python3.10/dist-packages (from rdflib) (3.1.2)\n",
            "Requirement already satisfied: six in /usr/local/lib/python3.10/dist-packages (from isodate<0.7.0,>=0.6.0->rdflib) (1.16.0)\n",
            "Installing collected packages: isodate, rdflib\n",
            "Successfully installed isodate-0.6.1 rdflib-7.0.0\n"
          ]
        }
      ]
    },
    {
      "cell_type": "code",
      "source": [
        "import rdflib\n",
        "\n",
        "def guess_format(owl_file):\n",
        "    formats = ['xml', 'turtle', 'n3']\n",
        "    for fmt in formats:\n",
        "        try:\n",
        "            g = rdflib.Graph()\n",
        "            g.parse(owl_file, format=fmt)\n",
        "            print(f\"Successfully parsed with format: {fmt}\")\n",
        "            return fmt\n",
        "        except Exception as e:\n",
        "            print(f\"Failed to parse with format: {fmt}. Error: {e}\")\n",
        "    print(\"Could not determine the format of the OWL file.\")\n",
        "    return None\n",
        "\n",
        "# Example usage\n",
        "owl_file = 'https://github.com/obophenotype/cell-ontology/raw/v2022-09-15/cl.owl'\n",
        "detected_format = guess_format(owl_file)\n",
        "print(f\"Detected format: {detected_format}\")\n"
      ],
      "metadata": {
        "colab": {
          "base_uri": "https://localhost:8080/"
        },
        "id": "gRyLvfJrf_Ln",
        "outputId": "0e8ffdbe-e5b6-469b-e4d1-180e463912a8"
      },
      "id": "gRyLvfJrf_Ln",
      "execution_count": 47,
      "outputs": [
        {
          "output_type": "stream",
          "name": "stdout",
          "text": [
            "Successfully parsed with format: xml\n",
            "Detected format: xml\n"
          ]
        }
      ]
    },
    {
      "cell_type": "code",
      "source": [
        "import rdflib\n",
        "import networkx as nx\n",
        "\n",
        "def create_graph_from_owl(owl_file):\n",
        "    # Load the ontology using rdflib\n",
        "    g = rdflib.Graph()\n",
        "\n",
        "    # Parse the OWL file with explicit format\n",
        "    g.parse(owl_file, format='xml')  # Change 'xml' to the correct format if needed\n",
        "\n",
        "    # Create a directed graph using networkx\n",
        "    graph = nx.DiGraph()\n",
        "\n",
        "    # Define the RDF and OWL namespaces\n",
        "    RDF_TYPE = rdflib.RDF.type\n",
        "    OWL = rdflib.namespace.OWL\n",
        "    RDFS = rdflib.namespace.RDFS\n",
        "\n",
        "    # Efficiently add nodes and edges\n",
        "    for s, p, o in g.triples((None, RDF_TYPE, OWL.Class)):\n",
        "        graph.add_node(s)\n",
        "\n",
        "    for s, p, o in g.triples((None, RDFS.subClassOf, None)):\n",
        "        graph.add_edge(o, s)  # Edge direction: parent -> child\n",
        "\n",
        "    return graph\n",
        "\n",
        "# Example usage\n",
        "owl_file = 'https://github.com/obophenotype/cell-ontology/raw/v2022-09-15/cl.owl'\n",
        "graph = create_graph_from_owl(owl_file)\n",
        "\n",
        "# Print the number of nodes and edges\n",
        "print(f\"Graph has {graph.number_of_nodes()} nodes and {graph.number_of_edges()} edges\")\n"
      ],
      "metadata": {
        "colab": {
          "base_uri": "https://localhost:8080/",
          "height": 198
        },
        "id": "i9MoEJYGenqf",
        "outputId": "3dc52afa-c27d-4a08-b670-112ee5ba8eef"
      },
      "id": "i9MoEJYGenqf",
      "execution_count": 48,
      "outputs": [
        {
          "output_type": "stream",
          "name": "stdout",
          "text": [
            "Graph has 50001 nodes and 47374 edges\n"
          ]
        },
        {
          "output_type": "error",
          "ename": "AttributeError",
          "evalue": "module 'networkx' has no attribute 'write_gpickle'",
          "traceback": [
            "\u001b[0;31m---------------------------------------------------------------------------\u001b[0m",
            "\u001b[0;31mAttributeError\u001b[0m                            Traceback (most recent call last)",
            "\u001b[0;32m<ipython-input-48-11e2f16abd2b>\u001b[0m in \u001b[0;36m<cell line: 36>\u001b[0;34m()\u001b[0m\n\u001b[1;32m     34\u001b[0m \u001b[0;34m\u001b[0m\u001b[0m\n\u001b[1;32m     35\u001b[0m \u001b[0;31m# Optionally, save the graph for later use\u001b[0m\u001b[0;34m\u001b[0m\u001b[0;34m\u001b[0m\u001b[0m\n\u001b[0;32m---> 36\u001b[0;31m \u001b[0mnx\u001b[0m\u001b[0;34m.\u001b[0m\u001b[0mwrite_gpickle\u001b[0m\u001b[0;34m(\u001b[0m\u001b[0mgraph\u001b[0m\u001b[0;34m,\u001b[0m \u001b[0;34m'cell_type_hierarchy.gpickle'\u001b[0m\u001b[0;34m)\u001b[0m\u001b[0;34m\u001b[0m\u001b[0;34m\u001b[0m\u001b[0m\n\u001b[0m",
            "\u001b[0;31mAttributeError\u001b[0m: module 'networkx' has no attribute 'write_gpickle'"
          ]
        }
      ]
    },
    {
      "cell_type": "code",
      "source": [
        "from networkx.readwrite import json_graph\n",
        "import json\n",
        "# Convert the graph to a JSON-compatible format\n",
        "data = json_graph.node_link_data(graph)\n",
        "\n",
        "# Save the graph to a JSON file\n",
        "with open('cell_type_hierarchy.json', 'w') as f:\n",
        "    json.dump(data, f, indent=4)"
      ],
      "metadata": {
        "id": "VNB1v1WieZIe"
      },
      "id": "VNB1v1WieZIe",
      "execution_count": 51,
      "outputs": []
    },
    {
      "cell_type": "code",
      "source": [
        "# Optionally, load the graph back from the JSON file to verify\n",
        "with open('cell_type_hierarchy.json', 'r') as f:\n",
        "    loaded_data = json.load(f)\n",
        "    loaded_graph = json_graph.node_link_graph(loaded_data)\n",
        "\n",
        "print(f\"Loaded graph has {loaded_graph.number_of_nodes()} nodes and {loaded_graph.number_of_edges()} edges\")"
      ],
      "metadata": {
        "colab": {
          "base_uri": "https://localhost:8080/"
        },
        "id": "wzRAxzfChpOg",
        "outputId": "ac0636fc-d326-4f92-f989-d780d2d5cb69"
      },
      "id": "wzRAxzfChpOg",
      "execution_count": 52,
      "outputs": [
        {
          "output_type": "stream",
          "name": "stdout",
          "text": [
            "Loaded graph has 50001 nodes and 47374 edges\n"
          ]
        }
      ]
    },
    {
      "cell_type": "code",
      "source": [
        "import networkx as nx\n",
        "\n",
        "# Create a cell type hierarchy graph\n",
        "cell_type_graph = nx.DiGraph()\n",
        "cell_type_graph.add_edge('Lymphocyte of B lineage', 'B cell')\n",
        "cell_type_graph.add_edge('B cell', 'Antibody-secreting cell')\n",
        "cell_type_graph.add_edge('Antibody-secreting cell', 'CD86-positive plasmablast')\n",
        "\n",
        "# Function to calculate hierarchical distance in an unweighted graph\n",
        "def hierarchy_distance(cell_type1, cell_type2, graph):\n",
        "    try:\n",
        "        return nx.shortest_path_length(graph, source=cell_type1, target=cell_type2)\n",
        "    except nx.NetworkXNoPath:\n",
        "        return float('inf')  # No path found\n",
        "\n",
        "# Example usage\n",
        "h_distance = hierarchy_distance('CD86-positive plasmablast', 'B cell', cell_type_graph)\n",
        "print(\"Hierarchical Distance:\", h_distance)\n"
      ],
      "metadata": {
        "colab": {
          "base_uri": "https://localhost:8080/"
        },
        "id": "jUc7IkIAi_pc",
        "outputId": "efe856fe-e622-4b77-bf78-8bc5c4f82fa8"
      },
      "id": "jUc7IkIAi_pc",
      "execution_count": 1,
      "outputs": [
        {
          "output_type": "stream",
          "name": "stdout",
          "text": [
            "Hierarchical Distance: inf\n"
          ]
        }
      ]
    },
    {
      "cell_type": "code",
      "source": [],
      "metadata": {
        "id": "5QrKUuiRwlFw"
      },
      "id": "5QrKUuiRwlFw",
      "execution_count": null,
      "outputs": []
    }
  ],
  "metadata": {
    "kernelspec": {
      "display_name": "Python 3 (ipykernel)",
      "language": "python",
      "name": "python3"
    },
    "language_info": {
      "codemirror_mode": {
        "name": "ipython",
        "version": 3
      },
      "file_extension": ".py",
      "mimetype": "text/x-python",
      "name": "python",
      "nbconvert_exporter": "python",
      "pygments_lexer": "ipython3",
      "version": "3.11.7"
    },
    "colab": {
      "provenance": [],
      "include_colab_link": true
    }
  },
  "nbformat": 4,
  "nbformat_minor": 5
}